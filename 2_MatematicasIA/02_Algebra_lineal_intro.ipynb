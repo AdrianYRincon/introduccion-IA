{
 "cells": [
  {
   "cell_type": "markdown",
   "id": "59fe679c-f646-4fe2-8a9e-fd4f37e4031e",
   "metadata": {},
   "source": [
    "# Matemáticas para IA con Python.\n",
    "\n",
    " <p xmlns:cc=\"http://creativecommons.org/ns#\" xmlns:dct=\"http://purl.org/dc/terms/\"><a property=\"dct:title\" rel=\"cc:attributionURL\" href=\"https://github.com/luiggix/intro_MeIA_2023\">Matemáticas para IA con Python</a> by <span property=\"cc:attributionName\">Luis Miguel de la Cruz Salas</span> is licensed under <a href=\"http://creativecommons.org/licenses/by-nc-sa/4.0/?ref=chooser-v1\" target=\"_blank\" rel=\"license noopener noreferrer\" style=\"display:inline-block;\">CC BY-NC-SA 4.0<img style=\"height:22px!important;margin-left:3px;vertical-align:text-bottom;\" src=\"https://mirrors.creativecommons.org/presskit/icons/cc.svg?ref=chooser-v1\"><img style=\"height:22px!important;margin-left:3px;vertical-align:text-bottom;\" src=\"https://mirrors.creativecommons.org/presskit/icons/by.svg?ref=chooser-v1\"><img style=\"height:22px!important;margin-left:3px;vertical-align:text-bottom;\" src=\"https://mirrors.creativecommons.org/presskit/icons/nc.svg?ref=chooser-v1\"><img style=\"height:22px!important;margin-left:3px;vertical-align:text-bottom;\" src=\"https://mirrors.creativecommons.org/presskit/icons/sa.svg?ref=chooser-v1\"></a></p> "
   ]
  },
  {
   "cell_type": "code",
   "execution_count": null,
   "id": "044e8a7a-046d-418a-9480-2d9e071c998b",
   "metadata": {
    "tags": []
   },
   "outputs": [],
   "source": [
    "import numpy as np\n",
    "import matplotlib.pyplot as plt\n",
    "import macti.visual\n",
    "import matem\n",
    "import sympy"
   ]
  },
  {
   "cell_type": "markdown",
   "id": "8553d10a-8542-4236-ab80-fea9032a968c",
   "metadata": {},
   "source": [
    "# Álgebra lineal."
   ]
  },
  {
   "cell_type": "markdown",
   "id": "d4ba9051-0eba-4cfb-889a-5910bb1244bc",
   "metadata": {},
   "source": [
    "## Espacios vectoriales\n",
    "Se denota $\\mathbb{R}^n$ al espacio vectorial de $n$-dimensiones sobre el campo de los números reales.\n",
    "Cada elemento de este espacio vectorial es un vector definido como $\\vec{x} = (x_1, x_2, \\dots, x_n)$. "
   ]
  },
  {
   "cell_type": "code",
   "execution_count": null,
   "id": "aa97d7e0-5084-4945-9ef0-e53e53ebbe28",
   "metadata": {
    "tags": []
   },
   "outputs": [],
   "source": [
    "x = np.array([2, 3]) # Un vector de R^2\n",
    "x"
   ]
  },
  {
   "cell_type": "markdown",
   "id": "d6eace53-151d-4cdc-aa4d-f1e081896fc3",
   "metadata": {},
   "source": [
    "Cada vector se caracteriza por su módulo ($||\\vec{x}|| = \\sqrt{||x_1||^2 + \\dots + ||x_n||^2}$) y su dirección."
   ]
  },
  {
   "cell_type": "code",
   "execution_count": null,
   "id": "e1424b5a-8415-46a9-b08f-a393be2cf09d",
   "metadata": {
    "tags": []
   },
   "outputs": [],
   "source": [
    "np.linalg.norm(x)"
   ]
  },
  {
   "cell_type": "code",
   "execution_count": null,
   "id": "694085f8-6aa6-442f-9a43-3914106c8026",
   "metadata": {
    "tags": []
   },
   "outputs": [],
   "source": [
    "matem.plot_vectors([x], w=0.020)"
   ]
  },
  {
   "cell_type": "code",
   "execution_count": null,
   "id": "d907c521-2b0c-4f91-b845-e06a93872660",
   "metadata": {
    "tags": []
   },
   "outputs": [],
   "source": [
    "np.arctan(x[1] / x[0]) * 180 / np.pi"
   ]
  },
  {
   "cell_type": "markdown",
   "id": "d2b012bc-6d93-408e-ab41-5f7f3f77342d",
   "metadata": {},
   "source": [
    "## Producto escalar.\n",
    "$$\n",
    "\\langle \\vec{x}, \\vec{y} \\rangle = \\vec{y}^T \\cdot \\vec{x} = \\sum_{i=1}^n x_i y_i\n",
    "$$\n",
    "\n",
    "**Propiedades**:\n",
    "* $\\langle \\vec{x}, \\vec{y} \\rangle = 0$ si y solo si $\\vec{x}$ y $\\vec{y}$ son ortogonales.\n",
    "* $\\langle \\vec{x}, \\vec{y} \\rangle \\ge 0$, además $\\langle \\vec{x}, \\vec{y} \\rangle = 0$ si y solo si $\\vec{x} = 0$\n",
    "* $\\langle \\alpha \\vec{x}, \\vec{y} \\rangle = \\alpha \\langle \\vec{x}, \\vec{y} \\rangle$\n",
    "* $\\langle \\vec{x}+\\vec{y}, \\vec{z} \\rangle = \\langle \\vec{x}, \\vec{z} \\rangle + \\langle \\vec{y}, \\vec{z} \\rangle$\n",
    "* $\\langle \\vec{x}, \\vec{y} \\rangle = \\langle \\vec{y}, \\vec{x} \\rangle $\n",
    "* Desigualdad de Schwarz : $||\\langle \\vec{x}, \\vec{y} \\rangle|| \\le ||\\vec{x}|| ||\\vec{y}||$"
   ]
  },
  {
   "cell_type": "code",
   "execution_count": null,
   "id": "05786ef3-abc6-495c-85c4-07e9e40ddcae",
   "metadata": {
    "tags": []
   },
   "outputs": [],
   "source": [
    "y = np.array([3,1])"
   ]
  },
  {
   "cell_type": "code",
   "execution_count": null,
   "id": "7422dd13-ab41-410c-9076-80a30515af77",
   "metadata": {
    "tags": []
   },
   "outputs": [],
   "source": [
    "suma = 0.0\n",
    "for i in range(len(x)):\n",
    "    suma += x[i] * y[i]\n",
    "suma"
   ]
  },
  {
   "cell_type": "code",
   "execution_count": null,
   "id": "ad21a133-2635-407c-98d5-af29453a5eac",
   "metadata": {
    "tags": []
   },
   "outputs": [],
   "source": [
    "np.dot(x,y)"
   ]
  },
  {
   "cell_type": "code",
   "execution_count": null,
   "id": "f8f2f063-825d-4c1a-a5a6-1457af8c80db",
   "metadata": {
    "tags": []
   },
   "outputs": [],
   "source": [
    "x @ y"
   ]
  },
  {
   "cell_type": "code",
   "execution_count": null,
   "id": "f9d763ab-ed99-4b62-b008-7db20f57916a",
   "metadata": {
    "tags": []
   },
   "outputs": [],
   "source": [
    "z = np.array([-3, 2])"
   ]
  },
  {
   "cell_type": "code",
   "execution_count": null,
   "id": "a4f0d384-1eac-4889-b664-ed31cf7c9a59",
   "metadata": {
    "tags": []
   },
   "outputs": [],
   "source": [
    "x @ z"
   ]
  },
  {
   "cell_type": "code",
   "execution_count": null,
   "id": "6852adb4-f326-43b5-b684-45fce0d70b3d",
   "metadata": {
    "tags": []
   },
   "outputs": [],
   "source": [
    "matem.plot_vectors([x, y, z], ['x', 'y', 'z'])"
   ]
  },
  {
   "cell_type": "markdown",
   "id": "877db981-4d29-474e-a4f8-562984a6deaf",
   "metadata": {},
   "source": [
    "## Independencia lineal.\n",
    "\n",
    "Los vectores $\\vec{x}_1, \\vec{x}_2, \\dots, \\vec{x}_n$ son linealmente independientes si de la ecuación:\n",
    "$$\n",
    "\\sum_{i=1}^n \\alpha_i \\vec{x}_i =  0\n",
    "$$\n",
    "\n",
    "se deduce que $\\alpha_i = 0$, para toda $i$. Si por lo menos una de las $\\alpha_i$ es distinta de cero, entonces los vectores son **linealmente dependientes**.\n",
    "\n",
    "En el espacio euclidiano $\\mathbb{R}^n$, los vectores $\\vec{e}_1 = (1,0,\\dots,0)$, $\\vec{e}_2 = (0,1,\\dots,0), \\dots, \\vec{e}_n = (0,0,\\dots,n)$, son linealmente independientes y representan una base ortonormal. Además, cualquier vector $\\vec{x} \\in \\mathbb{R}^n$ se puede representar como \n",
    "$$\n",
    "\\vec{x} = \\sum_{i=1}^n \\vec{x}_i \\vec{e}_i\n",
    "$$"
   ]
  },
  {
   "cell_type": "code",
   "execution_count": null,
   "id": "5c07f5db-2a1b-4756-af9b-5d6c9cc955be",
   "metadata": {
    "tags": []
   },
   "outputs": [],
   "source": [
    "e1 = np.array([1, 0])\n",
    "e2 = np.array([0, 1])\n",
    "print(e1, e2)"
   ]
  },
  {
   "cell_type": "code",
   "execution_count": null,
   "id": "6ef040d5-4e0e-4b9d-acee-5d0192cdb5fd",
   "metadata": {
    "tags": []
   },
   "outputs": [],
   "source": [
    "x"
   ]
  },
  {
   "cell_type": "code",
   "execution_count": null,
   "id": "28652f43-5789-455b-b44f-f6c29c4588c8",
   "metadata": {
    "tags": []
   },
   "outputs": [],
   "source": [
    "xs = e1 * 2 + e2 * 3\n",
    "xs"
   ]
  },
  {
   "cell_type": "code",
   "execution_count": null,
   "id": "b7ba129b-ae00-49b8-a47d-1bf863227485",
   "metadata": {
    "tags": []
   },
   "outputs": [],
   "source": [
    "matem.plot_vectors([e1, e2, xs], ['$e_1$', '$e_2$', '$xs$'], w=0.015)"
   ]
  },
  {
   "cell_type": "markdown",
   "id": "9671cdcb-12af-4b24-a11f-a7d128ff6c62",
   "metadata": {},
   "source": [
    "## Normas"
   ]
  },
  {
   "cell_type": "markdown",
   "id": "17492c07-3da3-444a-a602-d6e0e4363f38",
   "metadata": {},
   "source": [
    "Una función $||\\cdot ||$  de vectores se denomina norma vectorial si para cualesquiera dos vectores $\\vec{x}$ y $\\vec{y}$ de $\\mathbb{R}^n$ se satisfacen los siguiente axiomas:\n",
    "\n",
    "* $||\\vec{x} || \\ge 0$\n",
    "* $||\\vec{x} || = 0 \\iff \\vec{x} = 0$\n",
    "* $||a\\vec{x} || = |a| || \\vec{x} ||$\n",
    "* $||\\vec{x} + \\vec{y}|| \\le ||\\vec{x} || + ||\\vec{y}||$ (desigualdad triangular)\n",
    "\n",
    "Sea $p \\ge 1$. Las normas de Hölder, o $p$-normas, se definen por:\n",
    "\n",
    "$$\n",
    "||\\vec{x}||_p = \\left( \\sum_{i=1}^n |x_i|^p \\right)^{1/p} \n",
    "$$\n",
    "\n",
    "* **Norma 1**:\n",
    "$\n",
    "||\\vec{x}||_1 = \\sum_{i=1}^n |x_i|\n",
    "$\n",
    "* **Norma 2 (Euclideana)**:\n",
    "$\n",
    "||\\vec{x}||_2 = \\left( \\sum_{i=1}^n |x_i|^2 \\right)^{1/2} = \\langle \\vec{x}, \\vec{x} \\rangle^{1/2} = (\\vec{x}^T \\cdot \\vec{x})^{1/2}\n",
    "$\n",
    "\n",
    "* **Norma infinita**:\n",
    "$\n",
    "||\\vec{x}||_\\infty = \\max_{i \\le 1 \\le n} |x_i|\n",
    "$"
   ]
  },
  {
   "cell_type": "code",
   "execution_count": null,
   "id": "4ed5dc24-dda8-49a0-b78c-a0fa90ebc8b9",
   "metadata": {
    "tags": []
   },
   "outputs": [],
   "source": [
    "print(x, y, z)"
   ]
  },
  {
   "cell_type": "code",
   "execution_count": null,
   "id": "31834680-e165-45a3-bcd8-3513fb9b0f1c",
   "metadata": {
    "tags": []
   },
   "outputs": [],
   "source": [
    "matem.plot_vectors([x, y, z], ['x', 'y', 'z'])"
   ]
  },
  {
   "cell_type": "code",
   "execution_count": null,
   "id": "b022481c-307e-4f7d-8d3f-fc38d72e0fd7",
   "metadata": {
    "tags": []
   },
   "outputs": [],
   "source": [
    "print(np.linalg.norm(x, 1))\n",
    "print(np.linalg.norm(y, 1))\n",
    "print(np.linalg.norm(z, 1))"
   ]
  },
  {
   "cell_type": "code",
   "execution_count": null,
   "id": "7b4424e6-2942-483b-8cc1-f0413fb55507",
   "metadata": {
    "tags": []
   },
   "outputs": [],
   "source": [
    "print(np.linalg.norm(x, 2))\n",
    "print(np.linalg.norm(y, 2))\n",
    "print(np.linalg.norm(z, 2))"
   ]
  },
  {
   "cell_type": "code",
   "execution_count": null,
   "id": "d8f24f83-1529-42c5-99cb-11d8eaab97e1",
   "metadata": {
    "tags": []
   },
   "outputs": [],
   "source": [
    "print(np.linalg.norm(x, np.infty))\n",
    "print(np.linalg.norm(y, np.infty))\n",
    "print(np.linalg.norm(z, np.infty))"
   ]
  },
  {
   "cell_type": "code",
   "execution_count": null,
   "id": "8a53b080-678d-47df-a0be-cb2879c890a3",
   "metadata": {
    "tags": []
   },
   "outputs": [],
   "source": [
    "print(np.linalg.norm(x, -np.infty))\n",
    "print(np.linalg.norm(y, -np.infty))\n",
    "print(np.linalg.norm(z, -np.infty))"
   ]
  },
  {
   "cell_type": "markdown",
   "id": "8303922b-b1df-40d8-bf2b-d0b5b4949c99",
   "metadata": {},
   "source": [
    "## Matrices\n",
    "\n",
    "\n",
    "Sea $A = a_{ij}$ una matriz de $n \\times n$, donde $n$ indica la dimensión de la matriz ($n$ renglones por $n$ columnas). Los números $a_{ij}$ son los elementos de la matriz, y $i,j = 1,\\dots,n$. La matriz $A^T = {a_{ji}}$ es la matriz transpuesta.\n",
    "\n",
    "$$\n",
    "A = \n",
    "\\left(\n",
    "\\begin{array}{cccc}\n",
    "a_{11} & a_{12} & \\dots & a_{1n}\\\\\n",
    "a_{21} & a_{22} & \\dots & a_{2n}\\\\\n",
    "\\vdots & \\vdots& \\ddots & \\vdots \\\\\n",
    "a_{n1} & a_{n2} & \\dots & a_{nn}\\\\\n",
    "\\end{array}\n",
    "\\right)\n",
    "\\,\\,\\,\\,\n",
    "A^T = \n",
    "\\left(\n",
    "\\begin{array}{cccc}\n",
    "a_{11} & a_{21} & \\dots & a_{n1}\\\\\n",
    "a_{12} & a_{22} & \\dots & a_{n2}\\\\\n",
    "\\vdots & \\vdots& \\ddots & \\vdots \\\\\n",
    "a_{1n} & a_{2n} & \\dots & a_{nn}\\\\\n",
    "\\end{array}\n",
    "\\right)\n",
    "$$\n"
   ]
  },
  {
   "cell_type": "code",
   "execution_count": null,
   "id": "ec17adad-8ae0-4eeb-8453-2ef5f39911e0",
   "metadata": {
    "tags": []
   },
   "outputs": [],
   "source": [
    "A = np.arange(16).reshape(4,4)\n",
    "A"
   ]
  },
  {
   "cell_type": "code",
   "execution_count": null,
   "id": "4c8695e6-3fee-4029-90e7-0689de53b958",
   "metadata": {
    "tags": []
   },
   "outputs": [],
   "source": [
    "A.T"
   ]
  },
  {
   "cell_type": "markdown",
   "id": "6c72af8a-4465-4efe-bad2-73c43079784a",
   "metadata": {},
   "source": [
    "Las siguiente definiciones son válidas para $a_{ij} \\in \\mathbb{R}^n$.\n",
    "\n",
    "* Se denota $I$ a la matriz identidad (todas sus entradas son cero excepto en la diagonal donde sus entradas son 1)."
   ]
  },
  {
   "cell_type": "code",
   "execution_count": null,
   "id": "1540bc5d-b6e4-4f48-9f85-4453defdce4c",
   "metadata": {
    "tags": []
   },
   "outputs": [],
   "source": [
    "I = np.eye(4)\n",
    "I"
   ]
  },
  {
   "cell_type": "markdown",
   "id": "33e48a11-3666-44a7-9461-e1d43042165d",
   "metadata": {},
   "source": [
    "* La matriz inversa de $A$ se denota por $A^{-1}$ y es tal que $A^{-1}A = I$, donde "
   ]
  },
  {
   "cell_type": "code",
   "execution_count": null,
   "id": "31d84ea3-6f70-4edf-94b5-6b8f6bebdcf8",
   "metadata": {},
   "outputs": [],
   "source": [
    "A = np.array([[2, 3, 5],\n",
    "              [1, -4, 8],\n",
    "              [8, 6, 3]])\n",
    "Ainv = np.linalg.inv(A)\n",
    "Ainv"
   ]
  },
  {
   "cell_type": "code",
   "execution_count": null,
   "id": "14671b2b-8ae9-4606-810f-037b80b0818f",
   "metadata": {
    "tags": []
   },
   "outputs": [],
   "source": [
    "np.dot(A, Ainv)"
   ]
  },
  {
   "cell_type": "markdown",
   "id": "1a85f81a-710a-4cc4-a506-499e7b01a763",
   "metadata": {},
   "source": [
    "* Una matriz $A = {a_{ij}}$ se llama diagonal si $a_{ij}=0, \\forall i \\ne j$ y se denota por $A = \\mbox{diag} ( {a_{ii}}) $."
   ]
  },
  {
   "cell_type": "code",
   "execution_count": null,
   "id": "dd9dcde7-c8df-4f5e-8ce2-a89658e83cc2",
   "metadata": {
    "tags": []
   },
   "outputs": [],
   "source": [
    "np.diagonal(A)"
   ]
  },
  {
   "cell_type": "code",
   "execution_count": null,
   "id": "37b0f1e3-744c-4504-9769-1cb285afc9e9",
   "metadata": {
    "tags": []
   },
   "outputs": [],
   "source": [
    "np.diagonal(A, 1)"
   ]
  },
  {
   "cell_type": "code",
   "execution_count": null,
   "id": "0f321bc2-12d2-4b5d-8950-4b878b3ace4b",
   "metadata": {
    "tags": []
   },
   "outputs": [],
   "source": [
    "np.diagonal(A, -1)"
   ]
  },
  {
   "cell_type": "markdown",
   "id": "35f41dde-ed74-4254-aad9-de61c89e3508",
   "metadata": {},
   "source": [
    "* Una matriz $A = {a_{ij}}$ se llama triangular superior si $a_{ij} = 0, \\forall i > j$ y triangular inferior si $a_{ij} = 0, \\forall i < j$."
   ]
  },
  {
   "cell_type": "code",
   "execution_count": null,
   "id": "a9019c23-ccb2-43ae-a5b2-ee1f8bc9377f",
   "metadata": {
    "tags": []
   },
   "outputs": [],
   "source": [
    "np.triu(A)"
   ]
  },
  {
   "cell_type": "code",
   "execution_count": null,
   "id": "d18bc00b-9b04-46db-8a23-b286d9a00afa",
   "metadata": {
    "tags": []
   },
   "outputs": [],
   "source": [
    "np.tril(A)"
   ]
  },
  {
   "cell_type": "markdown",
   "id": "53eeae65-f51a-4793-bab2-e8eec78c6090",
   "metadata": {},
   "source": [
    "* Una matriz $A$ es simétrica si $A^T = A$ y antisimétrica si $A^T = -A$."
   ]
  },
  {
   "cell_type": "code",
   "execution_count": null,
   "id": "573bd3d7-3023-4712-a3cc-7a46cb935155",
   "metadata": {
    "tags": []
   },
   "outputs": [],
   "source": [
    "B = np.array([[2, 3, 5],\n",
    "              [3, -4, 8],\n",
    "              [5, 8, 3]])\n",
    "B"
   ]
  },
  {
   "cell_type": "code",
   "execution_count": null,
   "id": "0304b9a6-3aef-42b9-8aa8-1ce9be285321",
   "metadata": {
    "tags": []
   },
   "outputs": [],
   "source": [
    "B.T"
   ]
  },
  {
   "cell_type": "code",
   "execution_count": null,
   "id": "6f67e298-27f1-4ee8-8d7b-0eb8df9397c3",
   "metadata": {
    "tags": []
   },
   "outputs": [],
   "source": [
    "def isSymmetric(mat):\n",
    "    transmat = np.array(mat).transpose()\n",
    "    if np.array_equal(mat, transmat):\n",
    "        return True\n",
    "    return False"
   ]
  },
  {
   "cell_type": "code",
   "execution_count": null,
   "id": "cd7c7562-a674-44db-ba16-b5e2ed9fe6cf",
   "metadata": {
    "tags": []
   },
   "outputs": [],
   "source": [
    "isSymmetric(B)"
   ]
  },
  {
   "cell_type": "code",
   "execution_count": null,
   "id": "ca316004-c72d-4dfe-a3a5-592232866a01",
   "metadata": {
    "tags": []
   },
   "outputs": [],
   "source": [
    "isSymmetric(A)"
   ]
  },
  {
   "cell_type": "markdown",
   "id": "a37386c3-fba0-4278-8511-ea0c4cb8a4a6",
   "metadata": {},
   "source": [
    "* Una matriz $A$ es ortogonal si $A^T A = I$, o equivalentemente $A^T = A^{-1}$."
   ]
  },
  {
   "cell_type": "code",
   "execution_count": null,
   "id": "9f0addb3-2709-4cb3-ae1d-7037f780e497",
   "metadata": {
    "tags": []
   },
   "outputs": [],
   "source": [
    "x = sympy.symbols('x')\n",
    "\n",
    "# Matriz rotación\n",
    "rotation = sympy.Matrix([[sympy.cos(x), -sympy.sin(x)],\n",
    "                        [sympy.sin(x), sympy.cos(x)]])\n",
    "rotation"
   ]
  },
  {
   "cell_type": "code",
   "execution_count": null,
   "id": "ad20b6e5-c7c1-4621-a630-1dd0e77be051",
   "metadata": {
    "tags": []
   },
   "outputs": [],
   "source": [
    "rotation.T"
   ]
  },
  {
   "cell_type": "code",
   "execution_count": null,
   "id": "98d03dcb-ccf9-4660-9783-8134d7e481dd",
   "metadata": {
    "tags": []
   },
   "outputs": [],
   "source": [
    "rotation * rotation.T"
   ]
  },
  {
   "cell_type": "code",
   "execution_count": null,
   "id": "93a7093a-2bbf-4283-97e7-8ce9349e4349",
   "metadata": {
    "tags": []
   },
   "outputs": [],
   "source": [
    "sympy.simplify(rotation.T*rotation)"
   ]
  },
  {
   "cell_type": "code",
   "execution_count": null,
   "id": "8ea01392-57c0-431b-9241-f5ed92b81f52",
   "metadata": {
    "tags": []
   },
   "outputs": [],
   "source": [
    "rotation.subs('x', np.pi * 0.5).evalf(14)"
   ]
  },
  {
   "cell_type": "code",
   "execution_count": null,
   "id": "3b8632d9-b156-4e2a-b25c-b341479d911f",
   "metadata": {
    "tags": []
   },
   "outputs": [],
   "source": [
    "t1 = sympy.Matrix([3,0.5])\n",
    "\n",
    "t2 = rotation.subs('x', np.pi * 0.5).evalf(14) * t1\n",
    "\n",
    "print(t1)\n",
    "print(t2)"
   ]
  },
  {
   "cell_type": "code",
   "execution_count": null,
   "id": "e8ff82f5-7d86-4137-8c44-6a9d696bd6e0",
   "metadata": {
    "tags": []
   },
   "outputs": [],
   "source": [
    "np.array(t1, dtype=float).reshape(2,)"
   ]
  },
  {
   "cell_type": "code",
   "execution_count": null,
   "id": "8060d0a1-fc42-4eb1-bf2b-02f5a18105a3",
   "metadata": {
    "tags": []
   },
   "outputs": [],
   "source": [
    "np.array(t2, dtype=float).reshape(2,)"
   ]
  },
  {
   "cell_type": "code",
   "execution_count": null,
   "id": "b9cc3c0c-4da8-4cc7-b1d4-3b6d3748f2e7",
   "metadata": {
    "tags": []
   },
   "outputs": [],
   "source": [
    "matem.plot_vectors([np.array(t1, dtype=float).reshape(2,), \n",
    "                    np.array(t2, dtype=float).reshape(2,)],\n",
    "                  ['t1', 't2'])"
   ]
  },
  {
   "cell_type": "markdown",
   "id": "58903574-682d-432a-8ce1-c33e14d6ecbb",
   "metadata": {},
   "source": [
    "* Cada par de renglones o de columnas de una matriz ortogonal, son ortogonales entre sí. Además la longitud de cada columna o renglón es igual a 1."
   ]
  },
  {
   "cell_type": "code",
   "execution_count": null,
   "id": "69cc3fa0-4494-48d1-8b7e-725016391591",
   "metadata": {
    "tags": []
   },
   "outputs": [],
   "source": [
    "C = np.array([[1/3, 2/3, -2/3],\n",
    "              [-2/3, 2/3, 1/3],\n",
    "              [2/3, 1/3, 2/3]])\n",
    "C"
   ]
  },
  {
   "cell_type": "code",
   "execution_count": null,
   "id": "c50a6f05-6fce-41ee-a14e-83cbcb2315b7",
   "metadata": {
    "tags": []
   },
   "outputs": [],
   "source": [
    "np.dot(C, C.T)"
   ]
  },
  {
   "cell_type": "code",
   "execution_count": null,
   "id": "9e29e38f-1f4b-408a-9e38-5e06a5250415",
   "metadata": {
    "tags": []
   },
   "outputs": [],
   "source": [
    "np.dot(C[0], C[1])"
   ]
  },
  {
   "cell_type": "code",
   "execution_count": null,
   "id": "4e1c4782-3994-48f4-be1d-ada516ba2df1",
   "metadata": {
    "tags": []
   },
   "outputs": [],
   "source": [
    "np.dot(C[:,0], C[:,1])"
   ]
  },
  {
   "cell_type": "code",
   "execution_count": null,
   "id": "58099786-0bc8-4166-a9b4-9fa31718d7dc",
   "metadata": {
    "tags": []
   },
   "outputs": [],
   "source": [
    "np.linalg.norm(C[2])"
   ]
  },
  {
   "cell_type": "code",
   "execution_count": null,
   "id": "69b79016-14e1-43c7-bbb7-4cee6eb2e42d",
   "metadata": {
    "tags": []
   },
   "outputs": [],
   "source": [
    "np.linalg.norm(C[:, 2])"
   ]
  },
  {
   "cell_type": "markdown",
   "id": "6679282d-e195-4040-a3da-4a47b729c064",
   "metadata": {},
   "source": [
    "* Una matriz $A$ se denomina **positiva definida** si $\\langle A\\vec{x}, \\vec{x}\\rangle = \\vec{x}^T A\\vec{x} > 0$ para cualquier vector no nulo $\\vec{x}$ de $\\mathbb{R}$. La matriz se llama **positiva semidefinida** si $\\vec{x}^T A\\vec{x} \\ge 0$ para cualquier vector $\\vec{x}$ de $\\mathbb{R}$. Recordemos que:\n",
    "$$\n",
    "\\vec{x}^T A\\vec{x} = \\sum_{i=1}^n \\sum_{j=1}^n a_{ij} x_i x_j\n",
    "$$\n",
    "\n",
    "### Sistema lineal\n",
    "\n",
    "Las siguientes dos rectas se cruzan en algún punto.\n",
    "\n",
    "$$\n",
    "\\begin{array}{ccc}\n",
    "3x_0 + 2x_1 & = &2 \\\\\n",
    "2x_0 + 6x_1 & = &-8\n",
    "\\end{array}\n",
    "$$\n",
    "\n",
    "En términos de un sistema lineal, las dos ecuaciones anteriores se escriben como sigue:\n",
    "\n",
    "$$\n",
    "\\left[\n",
    "\\begin{array}{cc}\n",
    "3 & 2 \\\\\n",
    "2 & 6\n",
    "\\end{array} \\right]\n",
    "\\left[\n",
    "\\begin{array}{c}\n",
    "x_{0} \\\\\n",
    "x_{1}\n",
    "\\end{array} \\right] =\n",
    "\\left[\n",
    "\\begin{array}{c}\n",
    "2 \\\\ \n",
    "-8\n",
    "\\end{array} \\right]\n",
    "\\tag{1}\n",
    "$$\n",
    "\n",
    "Podemos calcular $\\vec{x}^T A\\vec{x}$ para este ejemplo como sigue:"
   ]
  },
  {
   "cell_type": "code",
   "execution_count": null,
   "id": "d03d62a4-5696-464b-806a-1d351eecd220",
   "metadata": {
    "tags": []
   },
   "outputs": [],
   "source": [
    "x, y = sympy.symbols('x y')\n",
    "X = sympy.Matrix([x, y])\n",
    "A = sympy.Matrix([[3, 2], [2, 6]])\n",
    "print(A, type(A))"
   ]
  },
  {
   "cell_type": "code",
   "execution_count": null,
   "id": "74bcf30e-f7d4-49a4-bd71-0f6641e2cfc3",
   "metadata": {
    "tags": []
   },
   "outputs": [],
   "source": [
    "pos_def = X.T @ A @ X\n",
    "pos_def"
   ]
  },
  {
   "cell_type": "code",
   "execution_count": null,
   "id": "a942b05e-dad5-4edf-ad62-ddaf084f2316",
   "metadata": {
    "tags": []
   },
   "outputs": [],
   "source": [
    "print(pos_def, type(pos_def))"
   ]
  },
  {
   "cell_type": "code",
   "execution_count": null,
   "id": "d2f754c8-fd02-4d2e-8f83-28e72860f60f",
   "metadata": {
    "tags": []
   },
   "outputs": [],
   "source": [
    "sympy.simplify(pos_def)"
   ]
  },
  {
   "cell_type": "markdown",
   "id": "d53bff25-5e58-467a-a4fd-2da22da58e95",
   "metadata": {},
   "source": [
    "Observamos que `pos_def` es una función cuadrática (positiva) que se puede graficar como sigue:"
   ]
  },
  {
   "cell_type": "code",
   "execution_count": null,
   "id": "54c1aab9-4502-40f8-a2bd-59569a5a1c56",
   "metadata": {},
   "outputs": [],
   "source": [
    "sympy.plotting.plot3d(pos_def[0], (x, -3, 6), (y, -8, 6))"
   ]
  },
  {
   "cell_type": "markdown",
   "id": "342f1da5-78dc-4edc-9dda-caf0f02e44e0",
   "metadata": {},
   "source": [
    "Tranformamos a `numpy` y `matplotlib` para mayor interactividad:"
   ]
  },
  {
   "cell_type": "code",
   "execution_count": null,
   "id": "3025442d-bb90-469c-8c47-f19a90f07617",
   "metadata": {
    "tags": []
   },
   "outputs": [],
   "source": [
    "xg, yg = np.meshgrid(np.linspace(-3,8,15), np.linspace(-8,3,15))\n",
    "g = sympy.lambdify(X, pos_def[0])\n",
    "W = np.array([g(x1, y1) for x1,y1 in zip(xg,yg)])"
   ]
  },
  {
   "cell_type": "code",
   "execution_count": null,
   "id": "f5f68e5f-6f61-4392-b9b4-c971d6b40b5f",
   "metadata": {
    "tags": []
   },
   "outputs": [],
   "source": [
    "matem.graf_surfi(xg, yg, W)"
   ]
  },
  {
   "cell_type": "markdown",
   "id": "fb4566bc-8b19-4a73-a5d0-0730f0c4a3a0",
   "metadata": {},
   "source": [
    "Se puede demostrar que la matriz $A$ es definida positiva."
   ]
  },
  {
   "cell_type": "markdown",
   "id": "9bc809c9-64d0-4486-8a6e-2cdd3672cf58",
   "metadata": {},
   "source": [
    "Veamos ahora el siguiente ejemplo:\n",
    "\n",
    "$$\n",
    "\\begin{array}{ccc}\n",
    "y & = & 0.10 x + 200 \\\\\n",
    "y & = & 0.30 x + 20\n",
    "\\end{array}\n",
    "$$\n",
    "\n",
    "Sistema lineal.\n",
    "\n",
    "$$\n",
    "\\left[\n",
    "\\begin{array}{cc}\n",
    "0.10 & -1 \\\\\n",
    "0.30 & -1\n",
    "\\end{array} \\right]\n",
    "\\left[\n",
    "\\begin{array}{c}\n",
    "x \\\\\n",
    "y\n",
    "\\end{array} \\right] =\n",
    "\\left[\n",
    "\\begin{array}{c}\n",
    "-200 \\\\ \n",
    "-20\n",
    "\\end{array} \\right] \\tag{2}\n",
    "$$"
   ]
  },
  {
   "cell_type": "code",
   "execution_count": null,
   "id": "6e2f83bf-b895-4647-b992-3b3c481f8770",
   "metadata": {
    "tags": []
   },
   "outputs": [],
   "source": [
    "Y = sympy.Matrix([x, y])\n",
    "B = sympy.Matrix([[0.10, -1], [0.30, -1]])\n",
    "\n",
    "pos_indef_B = X.T @ B @ X\n",
    "\n",
    "sympy.plotting.plot3d(pos_indef_B[0], (x, -6000, 6000), (y, -3000, 3000))"
   ]
  },
  {
   "cell_type": "code",
   "execution_count": null,
   "id": "a654cd29-497e-4c84-9c1e-90355218a687",
   "metadata": {
    "tags": []
   },
   "outputs": [],
   "source": [
    "xgB, ygB = np.meshgrid(np.linspace(-6000,6000,40), np.linspace(-3000,3000,40))\n",
    "gB = sympy.lambdify(Y, pos_indef_B[0])\n",
    "WB = np.array([gB(x1, y1) for x1,y1 in zip(xgB,ygB)])\n",
    "matem.graf_surfi(xgB, ygB, WB)"
   ]
  },
  {
   "cell_type": "markdown",
   "id": "de6029c0-3e08-4448-b021-29bf07cc4c9b",
   "metadata": {},
   "source": [
    "### Eigenvalores y Eigenvectores\n",
    "\n",
    "Si $A$ es una matriz cuadrada, entonces definimos el número $\\lambda$ (real o complejo) como **autovalor** (**valor propio** o **eigenvalor**) de $A$ si $A\\vec{u} = \\lambda \\vec{u}$, o equivalentemente si $det(A - \\lambda I) = 0$. El vector $\\vec{u}$ se llama autovector (vector propio o eigenvector) de $A$. El conjunto de todos los autovalores de la matriz $A$ se denomina espectro de $A$."
   ]
  },
  {
   "cell_type": "code",
   "execution_count": null,
   "id": "84b860df-51f9-4730-944d-05d9a2f77de6",
   "metadata": {
    "tags": []
   },
   "outputs": [],
   "source": [
    "A"
   ]
  },
  {
   "cell_type": "code",
   "execution_count": null,
   "id": "74e3d749-a179-4e91-89bf-8b7fd540196c",
   "metadata": {
    "tags": []
   },
   "outputs": [],
   "source": [
    "def eigen_land(Mat):\n",
    "    # Cálculo de eigenvectores\n",
    "    w, v = np.linalg.eig(Mat)  # w: eigenvalues, v: eigenvectors\n",
    "\n",
    "    # Impresión de los eigenvalores y eigenvectores\n",
    "    print('eigenvalores = {}'.format(w))\n",
    "    print('eigenvectores:\\n {} \\n {}'.format(v[:,0], v[:,1]))\n",
    "\n",
    "    # Cálculo del ángulo entre los vectores.\n",
    "    e0 = v[:,0] / np.linalg.norm(v[:,0])\n",
    "    e1 = v[:,1] / np.linalg.norm(v[:,1])\n",
    "    angulo = np.arccos(np.dot(e0, e1)) * 180 / np.pi\n",
    "    print('ángulo entre eigenvectores = {}'.format(angulo)) \n",
    "    \n",
    "    return w, v"
   ]
  },
  {
   "cell_type": "code",
   "execution_count": null,
   "id": "362ab232-1ceb-4ba0-b6db-83422fba518a",
   "metadata": {
    "tags": []
   },
   "outputs": [],
   "source": [
    "wA, vA = eigen_land(np.array(A, dtype=float))"
   ]
  },
  {
   "cell_type": "code",
   "execution_count": null,
   "id": "4b306a6a-9f94-4de9-abab-7040907ee18d",
   "metadata": {
    "tags": []
   },
   "outputs": [],
   "source": [
    "B"
   ]
  },
  {
   "cell_type": "code",
   "execution_count": null,
   "id": "5e0e69bd-07a4-41ef-bf99-b7bb01b1731a",
   "metadata": {
    "tags": []
   },
   "outputs": [],
   "source": [
    "wB, vB = eigen_land(np.array(B, dtype=float))"
   ]
  },
  {
   "cell_type": "code",
   "execution_count": null,
   "id": "26f326d6-6f21-406c-8246-8cbb67fc98cb",
   "metadata": {
    "tags": []
   },
   "outputs": [],
   "source": [
    "matem.plot_vectors([vA[:,0], vA[:,1], vB[:,0], vB[:,1]], ['$e_0^A$','$e_1^A$','$e_0^B$','$e_1^B$'])"
   ]
  },
  {
   "cell_type": "markdown",
   "id": "58ab2541-8582-423e-bcda-43a2f964d987",
   "metadata": {},
   "source": [
    "Recordemos que: $A\\vec{u} = \\lambda \\vec{u}$"
   ]
  },
  {
   "cell_type": "code",
   "execution_count": null,
   "id": "c1a7cee1-5313-42f9-9e0b-57307e4ca472",
   "metadata": {
    "tags": []
   },
   "outputs": [],
   "source": [
    "u = vA[:,0]\n",
    "v1 = np.array(A, dtype=float) @ u\n",
    "v1"
   ]
  },
  {
   "cell_type": "code",
   "execution_count": null,
   "id": "2088fb90-846f-46d6-bf80-3c740098701c",
   "metadata": {
    "tags": []
   },
   "outputs": [],
   "source": [
    "wA[0] * u"
   ]
  },
  {
   "cell_type": "code",
   "execution_count": null,
   "id": "32fdf7e6-24fb-4814-9e31-aa13dc0d9d14",
   "metadata": {
    "tags": []
   },
   "outputs": [],
   "source": [
    "matem.plot_vectors([v1, u], ['A * u','u'])"
   ]
  },
  {
   "cell_type": "markdown",
   "id": "af0bb973-0fe1-444e-88f3-0fe507090f12",
   "metadata": {},
   "source": [
    "### Forma cuadrática\n",
    "\n",
    "Recordemos la forma cuadrática:\n",
    "\n",
    "$ f(x) = \\dfrac{1}{2} \\mathbf{x}^T A \\mathbf{x} - \\mathbf{x}^T \\mathbf{b} + c $\n",
    "\n",
    "$\n",
    "A =\n",
    "\\left[\n",
    "\\begin{array}{cc}\n",
    "3 & 2 \\\\\n",
    "2 & 6\n",
    "\\end{array} \\right],\n",
    "x =\n",
    "\\left[\n",
    "\\begin{array}{c}\n",
    "x_{0} \\\\\n",
    "x_{1}\n",
    "\\end{array} \\right],\n",
    "b =\n",
    "\\left[\n",
    "\\begin{array}{c}\n",
    "2\\\\ -8\n",
    "\\end{array}\n",
    "\\right], \n",
    "c =\n",
    "\\left[\n",
    "\\begin{array}{c}\n",
    "0\\\\ 0\n",
    "\\end{array}\n",
    "\\right], \n",
    "$\n",
    "\n",
    "$ f^\\prime(x) = \\dfrac{1}{2} A^T \\mathbf{x} + \\dfrac{1}{2} A \\mathbf{x} - \\mathbf{b} $\n",
    "\n",
    "- Cuando $A$ es simétrica: $ f^\\prime(x) = A \\mathbf{x} - \\mathbf{b} $\n",
    "- Entonces un punto crítico de $f(x)$ se obtiene cuando $ f^\\prime(x) = A \\mathbf{x} - \\mathbf{b} = 0$, es decir cuando $A \\mathbf{x} = \\mathbf{b}$\n"
   ]
  },
  {
   "cell_type": "code",
   "execution_count": null,
   "id": "584086ae-2f51-422c-9837-58d1f77306a1",
   "metadata": {
    "tags": []
   },
   "outputs": [],
   "source": [
    "b = sympy.Matrix([2, -8])\n",
    "X = sympy.Matrix([x, y])"
   ]
  },
  {
   "cell_type": "code",
   "execution_count": null,
   "id": "0745af86-0155-4ac9-96ad-5618890faf8f",
   "metadata": {
    "tags": []
   },
   "outputs": [],
   "source": [
    "print(b, type(b))\n",
    "print(X, type(X))"
   ]
  },
  {
   "cell_type": "code",
   "execution_count": null,
   "id": "39022f13-4bfa-4e87-90a0-edd53ee8a992",
   "metadata": {
    "tags": []
   },
   "outputs": [],
   "source": [
    "A"
   ]
  },
  {
   "cell_type": "code",
   "execution_count": null,
   "id": "46d89dee-1ae9-4234-9306-bc13a373f735",
   "metadata": {
    "tags": []
   },
   "outputs": [],
   "source": [
    "b"
   ]
  },
  {
   "cell_type": "code",
   "execution_count": null,
   "id": "28f5fdfa-ac8f-4333-a0ad-7e69b7ccff9c",
   "metadata": {
    "tags": []
   },
   "outputs": [],
   "source": [
    "X"
   ]
  },
  {
   "cell_type": "markdown",
   "id": "229361ef-a52d-44c8-ba8b-aa31b9d7a42f",
   "metadata": {},
   "source": [
    "Calculando la forma cuadrática con **sympy**.\n",
    "\n",
    "$$ \n",
    "f(x) = \\dfrac{1}{2} \\mathbf{x}^T A \\mathbf{x} - \\mathbf{x}^T \\mathbf{b} + c \n",
    "$$\n"
   ]
  },
  {
   "cell_type": "code",
   "execution_count": null,
   "id": "0df3f046-b177-4731-a356-ef34e27d5b3e",
   "metadata": {
    "tags": []
   },
   "outputs": [],
   "source": [
    "f = 0.5 * X.T @ A @ X - X.T @ b\n",
    "f"
   ]
  },
  {
   "cell_type": "code",
   "execution_count": null,
   "id": "1a0c0f33-668c-4e20-92e8-f727097a820e",
   "metadata": {
    "tags": []
   },
   "outputs": [],
   "source": [
    "sympy.simplify(f)"
   ]
  },
  {
   "cell_type": "markdown",
   "id": "d95c208f-c863-4849-9a74-5ed79d31b1aa",
   "metadata": {},
   "source": [
    "Observamos que $f$ es una función cuadrática positiva. "
   ]
  },
  {
   "cell_type": "code",
   "execution_count": null,
   "id": "d898ba00-3fd6-4893-ba6f-a67460279023",
   "metadata": {
    "tags": []
   },
   "outputs": [],
   "source": [
    "sympy.plotting.plot3d(f[0], (x, -3, 6), (y, -8, 6))"
   ]
  },
  {
   "cell_type": "code",
   "execution_count": null,
   "id": "885736e2-e426-47a2-ab46-a50f1b35dbe4",
   "metadata": {
    "tags": []
   },
   "outputs": [],
   "source": [
    "xg, yg = np.meshgrid(np.linspace(-3,8,15), np.linspace(-8,3,15))\n",
    "g = sympy.lambdify(X, f[0])\n",
    "W = np.array([g(x1, y1) for x1,y1 in zip(xg,yg)])\n",
    "matem.graf_surfi(xg, yg, W)"
   ]
  },
  {
   "cell_type": "markdown",
   "id": "828fc994-cdce-4396-aa6d-a881f9147632",
   "metadata": {},
   "source": [
    "El gradiente de $f$ es $ f^\\prime(x) = A \\mathbf{x} - \\mathbf{b} $"
   ]
  },
  {
   "cell_type": "code",
   "execution_count": null,
   "id": "fbab714d-e52e-446e-bfb1-5c7257446656",
   "metadata": {
    "tags": []
   },
   "outputs": [],
   "source": [
    "fp = A @ X - b\n",
    "fp"
   ]
  },
  {
   "cell_type": "code",
   "execution_count": null,
   "id": "8cc274e6-cd43-4197-b4bf-d23e72ef62f6",
   "metadata": {
    "tags": []
   },
   "outputs": [],
   "source": [
    "print(fp) \n",
    "print(type(fp))"
   ]
  },
  {
   "cell_type": "code",
   "execution_count": null,
   "id": "28959346-05c0-4085-a15f-bdb0deffc7b9",
   "metadata": {
    "tags": []
   },
   "outputs": [],
   "source": [
    "print(fp[0], type(fp[0]))\n",
    "print(fp[1], type(fp[1]))"
   ]
  },
  {
   "cell_type": "markdown",
   "id": "6b24557a-ad0e-4196-b7c3-ec03d30d6a19",
   "metadata": {},
   "source": [
    "Otra manera de calcular el gradiente es como sigue:"
   ]
  },
  {
   "cell_type": "code",
   "execution_count": null,
   "id": "ef038912-064a-4d61-a1a5-6d70481fd0e4",
   "metadata": {
    "tags": []
   },
   "outputs": [],
   "source": [
    "Df = sympy.Matrix(f).jacobian(X)\n",
    "Df"
   ]
  },
  {
   "cell_type": "code",
   "execution_count": null,
   "id": "76ee894a-87df-4bfe-988a-b23cf8bfe5c1",
   "metadata": {
    "tags": []
   },
   "outputs": [],
   "source": [
    "print(Df)\n",
    "print(type(Df))"
   ]
  },
  {
   "cell_type": "code",
   "execution_count": null,
   "id": "7591c620-82c2-4012-b120-807b8f233f24",
   "metadata": {
    "tags": []
   },
   "outputs": [],
   "source": [
    "print(Df[0], type(Df[0]))\n",
    "print(Df[1], type(Df[1]))"
   ]
  },
  {
   "cell_type": "markdown",
   "id": "ceaab605-a7eb-490d-87c4-77b2514dfad1",
   "metadata": {},
   "source": [
    "Para ver cómo se comporta el gradiente de $f$, usemos **matplotlib**:"
   ]
  },
  {
   "cell_type": "code",
   "execution_count": null,
   "id": "ce17bcfe-19bb-45e8-bceb-3068b9e7db42",
   "metadata": {
    "tags": []
   },
   "outputs": [],
   "source": [
    "f1 = sympy.lambdify(X, Df[0])\n",
    "f2 = sympy.lambdify([x, y], Df[1])\n",
    "\n",
    "U=[f1(x1, y1) for x1,y1 in zip(xg,yg)]\n",
    "V=[f2(x1,y1) for x1,y1 in zip(xg,yg)]\n",
    "\n",
    "fig = plt.figure(figsize=(6,4))\n",
    "plt.quiver(xg,yg,U,V)\n",
    "plt.gca().set_aspect('equal')\n",
    "plt.show()"
   ]
  },
  {
   "cell_type": "code",
   "execution_count": null,
   "id": "55b36eed-912e-4875-83ca-50b13271005b",
   "metadata": {
    "tags": []
   },
   "outputs": [],
   "source": [
    "fig = plt.figure(figsize=(6,4))\n",
    "plt.contour(xg, yg, W, levels=20, linewidths = 1.0, cmap='hot',alpha=0.5)\n",
    "plt.quiver(xg, yg, U, V,zorder=5)\n",
    "plt.gca().set_aspect('equal')\n",
    "plt.show()"
   ]
  },
  {
   "cell_type": "markdown",
   "id": "e69e1db1-3654-42c5-9d79-f1f0d0938325",
   "metadata": {
    "tags": []
   },
   "source": [
    "### Inversa\n",
    "\n",
    "$$\n",
    "\\left[\n",
    "\\begin{array}{ccc}\n",
    "1 & 2 & 3 \\\\\n",
    "3 & 6 & 2 \\\\\n",
    "2 & 0 & 1\n",
    "\\end{array}\n",
    "\\right] \n",
    "\\left[ \n",
    "\\begin{array}{c}\n",
    "x \\\\ y \\\\ z \n",
    "\\end{array}\n",
    "\\right]\n",
    "= \n",
    "\\left[ \n",
    "\\begin{array}{c}\n",
    "1 \\\\ 2 \\\\ 3 \n",
    "\\end{array}\n",
    "\\right]\n",
    "$$"
   ]
  },
  {
   "cell_type": "code",
   "execution_count": null,
   "id": "4b0eb892-9452-4d66-8205-5e1b6aadaaca",
   "metadata": {
    "tags": []
   },
   "outputs": [],
   "source": [
    "M = sympy.Matrix([[1, 2, 3], [3, 6, 2], [2, 0, 1]])\n",
    "M"
   ]
  },
  {
   "cell_type": "code",
   "execution_count": null,
   "id": "73da6f28-6170-48f3-8c3b-6259349eeb42",
   "metadata": {
    "tags": []
   },
   "outputs": [],
   "source": [
    "MI = M.inv()\n",
    "MI"
   ]
  },
  {
   "cell_type": "code",
   "execution_count": null,
   "id": "a8af93f9-2980-49a7-9095-c080149ded48",
   "metadata": {
    "tags": []
   },
   "outputs": [],
   "source": [
    "M * MI"
   ]
  },
  {
   "cell_type": "code",
   "execution_count": null,
   "id": "8e63320e-6404-45d5-825c-dc6d9400585f",
   "metadata": {
    "tags": []
   },
   "outputs": [],
   "source": [
    "b = sympy.Matrix([1, 2, 3])\n",
    "b"
   ]
  },
  {
   "cell_type": "code",
   "execution_count": null,
   "id": "c755a05a-d843-43d0-81fa-2bb859d7ef9b",
   "metadata": {
    "tags": []
   },
   "outputs": [],
   "source": [
    "sol = MI * b \n",
    "sol"
   ]
  },
  {
   "cell_type": "code",
   "execution_count": null,
   "id": "46b2bc94-5973-46f1-9520-7230e426cfa2",
   "metadata": {
    "tags": []
   },
   "outputs": [],
   "source": [
    "M * sol"
   ]
  },
  {
   "cell_type": "markdown",
   "id": "b9eb35bc-40b5-45df-90a2-3ebebea5383e",
   "metadata": {},
   "source": [
    "### Descomposición LU"
   ]
  },
  {
   "cell_type": "code",
   "execution_count": null,
   "id": "2feb61a1-e606-4b90-8f3b-1d1961a88d61",
   "metadata": {
    "tags": []
   },
   "outputs": [],
   "source": [
    "L, U, perm = M.LUdecomposition()\n",
    "L"
   ]
  },
  {
   "cell_type": "code",
   "execution_count": null,
   "id": "6a28f503-590f-4f8f-9aba-6f35fd282ec0",
   "metadata": {
    "tags": []
   },
   "outputs": [],
   "source": [
    "U"
   ]
  },
  {
   "cell_type": "code",
   "execution_count": null,
   "id": "52092806-3a32-4def-b67d-2589235e687c",
   "metadata": {
    "tags": []
   },
   "outputs": [],
   "source": [
    "perm"
   ]
  },
  {
   "cell_type": "code",
   "execution_count": null,
   "id": "c1e2ec15-13e6-491a-b7b7-230585caeb5f",
   "metadata": {
    "tags": []
   },
   "outputs": [],
   "source": [
    "L * U"
   ]
  },
  {
   "cell_type": "code",
   "execution_count": null,
   "id": "169a2854-48cd-454d-82a4-090a889c7646",
   "metadata": {
    "tags": []
   },
   "outputs": [],
   "source": [
    "M"
   ]
  },
  {
   "cell_type": "code",
   "execution_count": null,
   "id": "80b3588c-f50a-423d-ba5d-7e3cfc5d15d1",
   "metadata": {
    "tags": []
   },
   "outputs": [],
   "source": [
    "b"
   ]
  },
  {
   "cell_type": "code",
   "execution_count": null,
   "id": "5b12678a-a9a9-4133-8bf9-d2970ffe7101",
   "metadata": {
    "tags": []
   },
   "outputs": [],
   "source": [
    "sol_LU = M.LUsolve(b)\n",
    "sol_LU"
   ]
  },
  {
   "cell_type": "code",
   "execution_count": null,
   "id": "a3619b66-3993-4e04-8460-42a3520f860c",
   "metadata": {
    "tags": []
   },
   "outputs": [],
   "source": [
    "M * sol_LU"
   ]
  },
  {
   "cell_type": "code",
   "execution_count": null,
   "id": "701c9653-c37e-44ff-9f10-e8134feb7d94",
   "metadata": {
    "tags": []
   },
   "outputs": [],
   "source": [
    "from scipy.linalg import lu\n",
    "\n",
    "p, l, u = lu(M)"
   ]
  },
  {
   "cell_type": "code",
   "execution_count": null,
   "id": "8f58c530-8846-4a52-be06-debc6e491038",
   "metadata": {
    "tags": []
   },
   "outputs": [],
   "source": [
    "p"
   ]
  },
  {
   "cell_type": "code",
   "execution_count": null,
   "id": "3b3f932d-9d90-4df3-bbfa-b68216072bca",
   "metadata": {
    "tags": []
   },
   "outputs": [],
   "source": [
    "l"
   ]
  },
  {
   "cell_type": "code",
   "execution_count": null,
   "id": "809182b2-bcdd-4990-8402-843e3a8356a4",
   "metadata": {
    "tags": []
   },
   "outputs": [],
   "source": [
    "u"
   ]
  },
  {
   "cell_type": "code",
   "execution_count": null,
   "id": "6fa58416-687f-4fbd-9b19-88eeb692ae95",
   "metadata": {
    "tags": []
   },
   "outputs": [],
   "source": [
    "l @ u"
   ]
  },
  {
   "cell_type": "markdown",
   "id": "0fef18e5-04d3-4432-8b7a-29ff683bf038",
   "metadata": {},
   "source": [
    "### Descomposición QR"
   ]
  },
  {
   "cell_type": "code",
   "execution_count": null,
   "id": "c9639da7-07ff-4b4f-a28c-70d9fa1efaa3",
   "metadata": {
    "tags": []
   },
   "outputs": [],
   "source": [
    "Q, R = M.QRdecomposition()"
   ]
  },
  {
   "cell_type": "code",
   "execution_count": null,
   "id": "6186a253-6fbd-4a2d-930c-fa7dec666368",
   "metadata": {
    "tags": []
   },
   "outputs": [],
   "source": [
    "Q"
   ]
  },
  {
   "cell_type": "code",
   "execution_count": null,
   "id": "ee933987-1a16-4c2a-9572-1677626b1d76",
   "metadata": {
    "tags": []
   },
   "outputs": [],
   "source": [
    "R"
   ]
  },
  {
   "cell_type": "code",
   "execution_count": null,
   "id": "37c2319e-409b-4bb0-9db5-9c52bd8f018c",
   "metadata": {
    "tags": []
   },
   "outputs": [],
   "source": [
    "Q * R"
   ]
  },
  {
   "cell_type": "code",
   "execution_count": null,
   "id": "fd20abc5-a4a7-44cd-9df3-f004357e8024",
   "metadata": {
    "tags": []
   },
   "outputs": [],
   "source": [
    "q, r = np.linalg.qr(M)"
   ]
  },
  {
   "cell_type": "code",
   "execution_count": null,
   "id": "2294c46e-5c43-428e-9c6f-ac4be23fa521",
   "metadata": {
    "tags": []
   },
   "outputs": [],
   "source": [
    "q"
   ]
  },
  {
   "cell_type": "code",
   "execution_count": null,
   "id": "4e8e3a6e-a699-4d24-a696-009abbc838fa",
   "metadata": {
    "tags": []
   },
   "outputs": [],
   "source": [
    "r"
   ]
  },
  {
   "cell_type": "code",
   "execution_count": null,
   "id": "b70d7592-97a4-45d8-a2c3-ddc29787f494",
   "metadata": {
    "tags": []
   },
   "outputs": [],
   "source": [
    "q @ r"
   ]
  },
  {
   "cell_type": "markdown",
   "id": "dd523269-c786-445d-b598-ebdecf7af2af",
   "metadata": {},
   "source": [
    "### Descomposición de Cholesky"
   ]
  },
  {
   "cell_type": "code",
   "execution_count": null,
   "id": "205f433f-f099-4fa5-a90f-1d8636616525",
   "metadata": {
    "tags": []
   },
   "outputs": [],
   "source": [
    "L = np.linalg.cholesky(np.array(M, dtype=float))"
   ]
  },
  {
   "cell_type": "code",
   "execution_count": null,
   "id": "18f1a4ec-59e3-49e6-9948-2676860fd73f",
   "metadata": {
    "tags": []
   },
   "outputs": [],
   "source": [
    "A"
   ]
  },
  {
   "cell_type": "code",
   "execution_count": null,
   "id": "d4731ce0-6016-4dc5-a484-19c9d9132aa0",
   "metadata": {
    "tags": []
   },
   "outputs": [],
   "source": [
    "L = np.linalg.cholesky(np.array(A, dtype=float))"
   ]
  },
  {
   "cell_type": "code",
   "execution_count": null,
   "id": "e9574ee3-90da-4462-983f-eca9abc1ece9",
   "metadata": {
    "tags": []
   },
   "outputs": [],
   "source": [
    "L"
   ]
  },
  {
   "cell_type": "code",
   "execution_count": null,
   "id": "286aafb4-9213-451b-85dd-9ee1b5d12a54",
   "metadata": {
    "tags": []
   },
   "outputs": [],
   "source": [
    "L @ L.T"
   ]
  },
  {
   "cell_type": "code",
   "execution_count": null,
   "id": "3fa554fa-88eb-469b-a8fd-39b806ea0feb",
   "metadata": {},
   "outputs": [],
   "source": []
  }
 ],
 "metadata": {
  "kernelspec": {
   "display_name": "Python 3 (ipykernel)",
   "language": "python",
   "name": "python3"
  },
  "language_info": {
   "codemirror_mode": {
    "name": "ipython",
    "version": 3
   },
   "file_extension": ".py",
   "mimetype": "text/x-python",
   "name": "python",
   "nbconvert_exporter": "python",
   "pygments_lexer": "ipython3",
   "version": "3.11.3"
  }
 },
 "nbformat": 4,
 "nbformat_minor": 5
}
