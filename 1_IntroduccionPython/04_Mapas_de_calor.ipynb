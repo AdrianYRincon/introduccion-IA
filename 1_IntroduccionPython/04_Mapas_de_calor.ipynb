{
 "cells": [
  {
   "cell_type": "markdown",
   "id": "8b86d258-7bae-433f-8367-ae2f5052b56d",
   "metadata": {},
   "source": [
    "# Introducción a Python para IA.\n",
    "\n",
    " <p xmlns:cc=\"http://creativecommons.org/ns#\" xmlns:dct=\"http://purl.org/dc/terms/\"><a property=\"dct:title\" rel=\"cc:attributionURL\" href=\"https://github.com/luiggix/intro_MeIA_2023\">Introducción a Python para IA</a> by <span property=\"cc:attributionName\">Luis Miguel de la Cruz Salas</span> is licensed under <a href=\"http://creativecommons.org/licenses/by-nc-sa/4.0/?ref=chooser-v1\" target=\"_blank\" rel=\"license noopener noreferrer\" style=\"display:inline-block;\">CC BY-NC-SA 4.0<img style=\"height:22px!important;margin-left:3px;vertical-align:text-bottom;\" src=\"https://mirrors.creativecommons.org/presskit/icons/cc.svg?ref=chooser-v1\"><img style=\"height:22px!important;margin-left:3px;vertical-align:text-bottom;\" src=\"https://mirrors.creativecommons.org/presskit/icons/by.svg?ref=chooser-v1\"><img style=\"height:22px!important;margin-left:3px;vertical-align:text-bottom;\" src=\"https://mirrors.creativecommons.org/presskit/icons/nc.svg?ref=chooser-v1\"><img style=\"height:22px!important;margin-left:3px;vertical-align:text-bottom;\" src=\"https://mirrors.creativecommons.org/presskit/icons/sa.svg?ref=chooser-v1\"></a></p> \n",
    "\n",
    "# Objetivos.\n",
    "Crearuna herramienta para generar mapas de calor (heatmaps) usando funciones de matplotlib."
   ]
  },
  {
   "cell_type": "code",
   "execution_count": null,
   "id": "be82c9ba-880b-470b-9b47-bc5a32fb045c",
   "metadata": {
    "tags": []
   },
   "outputs": [],
   "source": [
    "import numpy as np\n",
    "import matplotlib.pyplot as plt"
   ]
  },
  {
   "cell_type": "markdown",
   "id": "8097130a-7643-49d2-bdac-4c37b0ac4e9d",
   "metadata": {},
   "source": [
    "<div class=\"alert alert-success\">\n",
    "<b>Matplotlib.</b>\n",
    "    \n",
    "Para realizar esta práctica, necesitas conocer algunos conceptos y funciones de la biblioteca <b>matplotlib</b>. Para ello debes revisar la notebook: \n",
    "<ul>    \n",
    "    <li><a href=\"T15_Matplotlib_Intro.ipynb\">T15_Matplotlib_Intro.ipynb</a>.</li>\n",
    "    <li><a href=\"T16_Matplotlib_Funciones.ipynb\">T16_Matplotlib_Funciones.ipynb</a>.</li>\n",
    "</ul>\n",
    "</div>"
   ]
  },
  {
   "cell_type": "markdown",
   "id": "a6c3f31b-68c3-4aa3-91d1-d0459a51dd9e",
   "metadata": {},
   "source": [
    "# Heatmap\n",
    "\n",
    "Un mapa de calor (*heatmap*) es una representación gráfica de datos numéricos, donde cada dato individual se representa usando un color. De esta manera, es posible simplificar conjuntos de datos numéricos en visualizaciones claras que se pueden entender más fácilmente.\n",
    "\n",
    "En matplotlib se pueden generar mapas de calo de manera distinta."
   ]
  },
  {
   "cell_type": "markdown",
   "id": "7bb4df1e-1101-4aa9-9e14-d8811d686683",
   "metadata": {},
   "source": [
    "## Versión 1."
   ]
  },
  {
   "cell_type": "code",
   "execution_count": null,
   "id": "a5998896-2883-47f4-9649-7a4e4461e6ee",
   "metadata": {
    "tags": []
   },
   "outputs": [],
   "source": [
    "# Generamos datos de manera pseudo-aleatoria.\n",
    "data = np.random.random((5, 5))\n",
    "print(data)"
   ]
  },
  {
   "cell_type": "markdown",
   "id": "6d1da096-fdb9-4d79-a1db-b0633d964339",
   "metadata": {},
   "source": [
    "Usaremos la función `imshow()` para graficar los datos."
   ]
  },
  {
   "cell_type": "code",
   "execution_count": null,
   "id": "39ae13d5-f517-4265-b045-2507d4af3bec",
   "metadata": {
    "tags": []
   },
   "outputs": [],
   "source": [
    "plt.imshow(data)\n",
    "plt.show()"
   ]
  },
  {
   "cell_type": "markdown",
   "id": "a7c95246-e26f-4ad1-acd3-57a19e7d56f1",
   "metadata": {},
   "source": [
    "## Versión 2.\n",
    "La gráfica anterior muestra ya los datos representados por colores. Para entender mejor esta información, vamos a realizar lo siguiente:\n",
    "\n",
    "* Definición de etiquetas.\n",
    "* Datos numéricos sobre el mapa de calor.\n",
    "* Mapa y barra de color"
   ]
  },
  {
   "cell_type": "code",
   "execution_count": null,
   "id": "64a24fa8-81fb-495d-ab98-632581924c67",
   "metadata": {
    "tags": []
   },
   "outputs": [],
   "source": [
    "# Definimos un conjunto de etiquetas para los datos\n",
    "ver = [\"vertical 1\", \"vertical 2\", \"vertical 3\", \"vertical 4\", \"vertical 5\"]\n",
    "hor = [\"horizontal {}\".format(i) for i in range(1,6)]\n",
    "\n",
    "# Definimos la figura a través de subplots\n",
    "fig, ax = plt.subplots()\n",
    "\n",
    "# Generamos el mapa de calor usando un cmap \n",
    "im = ax.imshow(data, cmap=\"hot\")\n",
    "\n",
    "### Decoramos el mapa de calor con información relevante:\n",
    "\n",
    "# Definimos las marcas sobre los ejes y las etiquetas\n",
    "ax.set_xticks(np.arange(len(hor)), labels=hor, rotation=45, ha=\"right\", fontsize=9)\n",
    "ax.set_yticks(np.arange(len(ver)), labels=ver, fontsize=9)\n",
    "\n",
    "# Visualizamos la información numérica.\n",
    "for i in range(len(ver)):\n",
    "    for j in range(len(hor)):\n",
    "        text = ax.text(j, i, '{:0.2f}'.format(data[i, j]),\n",
    "                       ha=\"center\", va=\"center\", color=\"w\")\n",
    "\n",
    "# Barra de color\n",
    "cbar = plt.colorbar(im, ticks=[0.1, 0.5, 0.9])\n",
    "cbar.ax.set_ylabel(\"Etiqueta para la barra\", rotation=-90, va=\"bottom\")\n",
    "cbar.ax.set_yticklabels(['Bajo', 'Medio', 'Alto'])\n",
    "      \n",
    "plt.tight_layout()\n",
    "plt.savefig('heatmap2.pdf')\n",
    "plt.show()"
   ]
  },
  {
   "cell_type": "markdown",
   "id": "2b38691c-eabb-41a2-884d-ff206ea9c4a5",
   "metadata": {
    "tags": []
   },
   "source": [
    "## Versión 3.\n",
    "\n",
    "Aún hay mucho que mejorar, lo siguiente será:\n",
    "\n",
    "* Ajuste de los ticks y el marco de la gráfica."
   ]
  },
  {
   "cell_type": "code",
   "execution_count": null,
   "id": "661b4c1b-829d-462f-a297-b8f24bd461ad",
   "metadata": {
    "tags": []
   },
   "outputs": [],
   "source": [
    "# Obtenemos los ejes de la figura anterior\n",
    "ax = fig.gca()\n",
    "\n",
    "# Ponemos las ticks en el top de la figura.\n",
    "ax.tick_params(top=True, bottom=False, labeltop=True, labelbottom=False)\n",
    "\n",
    "# Cambiamos la alineación de las xticks\n",
    "ax.set_xticks(np.arange(len(hor)), labels=hor, rotation=45, ha=\"left\", fontsize=9)\n",
    "\n",
    "# Ajustamos los minor ticks para dibujar una rejilla\n",
    "ax.set_xticks(np.arange(data.shape[1]+1)-.5, minor=True)\n",
    "ax.set_yticks(np.arange(data.shape[0]+1)-.5, minor=True)\n",
    "ax.grid(which=\"minor\", color=\"w\", linestyle='-', linewidth=3)\n",
    "ax.tick_params(which=\"minor\", bottom=False, left=False)\n",
    "\n",
    "# Quitamos el marco de los ejes (spines)\n",
    "ax.spines[:].set_visible(False)\n",
    "\n",
    "fig.tight_layout()\n",
    "fig.savefig('heatmap3.pdf')\n",
    "fig"
   ]
  },
  {
   "cell_type": "markdown",
   "id": "6864381c-0268-4113-85eb-e2d0503f1318",
   "metadata": {},
   "source": [
    "## Versión 4.\n",
    "\n",
    "Observa que en la figura anterior algunos números no se logran ver correctamente debido al contraste de colores. Lo que haremos a continuación será:\n",
    "\n",
    "* Agregar un título al mapa de calor.\n",
    "* Seleccionamos el color del texto de los datos adecuadamente."
   ]
  },
  {
   "cell_type": "code",
   "execution_count": null,
   "id": "b3773ed1-378a-47fd-bcb0-1812c05a390f",
   "metadata": {
    "tags": []
   },
   "outputs": [],
   "source": [
    "# Obtenemos los ejes de la figura anterior\n",
    "ax = fig.gca()\n",
    "\n",
    "# Parámetros para el texto\n",
    "kw = dict(ha=\"center\", va=\"center\")\n",
    "\n",
    "text_format = '{:0.2f}' # Formato para el texto\n",
    "textcolors  = (\"black\", \"white\") # Colores para el texto\n",
    "\n",
    "# Calculamos un umbral. \n",
    "# * Usamos \"im.norm\" para normalizar los datos al intervalo [0,1]\n",
    "threshold   = im.norm(data.max()) / 2\n",
    "\n",
    "# Visualizamos la información numérica.\n",
    "for i in range(len(ver)):\n",
    "    for j in range(len(hor)):\n",
    "        # Normalizamos el dato a [0,1]\n",
    "        # Comparamos con el umbral, si es mayor usamos blanco para el texto, \n",
    "        # en otro caso se usa negro. Actualizamos el diccionario de parámetros.\n",
    "        kw.update(color=textcolors[int(im.norm(data[i, j]) > threshold)])\n",
    "        \n",
    "        # Dibujamos el texto usando el formato \"text_format\".\n",
    "        text = ax.text(j, i, text_format.format(data[i, j]), **kw)\n",
    "\n",
    "fig.tight_layout()\n",
    "fig.savefig('heatmap4.pdf')\n",
    "fig"
   ]
  },
  {
   "cell_type": "markdown",
   "id": "e70e5bf2-e1c6-40f0-beae-bb41f067f4d5",
   "metadata": {},
   "source": [
    "## Versión 5.\n",
    "Finalmente, juntamos todo lo anterior en una función para posteriormente usarla como una herramienta de graficación."
   ]
  },
  {
   "cell_type": "code",
   "execution_count": null,
   "id": "acf06611-3a21-426b-9789-a851542b3d4c",
   "metadata": {
    "tags": []
   },
   "outputs": [],
   "source": [
    "def heatmap_0(data, row_labels, col_labels, ax = None, cbar_label=\"\",\n",
    "              text_format=\"{:.2f}\", inv_tc=False, \n",
    "              **kwargs):\n",
    "    \"\"\"\n",
    "    Crea un mapa de calor a partir de un conjunto de datos.\n",
    "    \n",
    "    Parameters\n",
    "    ----------\n",
    "    data: 2D `ndarray` \n",
    "        Los datos para generar el mapa de calor.\n",
    "        \n",
    "    row_labels: `list`\n",
    "        Lista de etiquetas para el eje vertical.\n",
    "        \n",
    "    col_labels: `list`\n",
    "        Lista de etiquetas para el eje horizontal.\n",
    "    \n",
    "    ax: `matplotlib.axes.Axes`\n",
    "        Los ejes donde se dibujará el mapa de calor. Opcional.\n",
    "        \n",
    "    cbar_label: `string`\n",
    "        Etiqueta para el `colorbar`. Opcional.\n",
    "\n",
    "    text_format: `string`\n",
    "        Cadena especificando el formato del texto para los valores numéricos. Opcional.\n",
    "        \n",
    "    inv_tc: `bool`\n",
    "        Si es True se usa (black, white), en otro caso se usa (white,black). Opcional.\n",
    "        \n",
    "    **kwargs:\n",
    "        Argumentos adicionales para `imshow`.\n",
    "        \n",
    "    Returns\n",
    "    -------\n",
    "        im : `AxesImage`\n",
    "        cbar: `Colorbar`\n",
    "        \n",
    "    \"\"\"\n",
    "    # Si no se proporcionan los ejes de manera explícita, se generan o se obtiene los que\n",
    "    # estén presentes.\n",
    "    if ax == None:\n",
    "        ax = plt.gca()\n",
    "        \n",
    "    # Generamos el mapa de calor\n",
    "    im = ax.imshow(data, **kwargs)\n",
    "\n",
    "    ### Decoramos el mapa de calor con información relevante:\n",
    "\n",
    "    # Ponemos las ticks en el top de la figura.\n",
    "    ax.tick_params(top=True, bottom=False, labeltop=True, labelbottom=False)\n",
    "\n",
    "    # Definimos las marcas sobre los ejes y las etiquetas\n",
    "    ax.set_xticks(np.arange(len(col_labels)), labels=col_labels, rotation=45, ha=\"left\", fontsize=9)\n",
    "    ax.set_yticks(np.arange(len(row_labels)), labels=row_labels, fontsize=9)\n",
    "\n",
    "    # Ajustamos los minor ticks para dibujar una rejilla\n",
    "    ax.set_xticks(np.arange(data.shape[1]+1)-.5, minor=True)\n",
    "    ax.set_yticks(np.arange(data.shape[0]+1)-.5, minor=True)\n",
    "    ax.grid(which=\"minor\", color=\"w\", linestyle='-', linewidth=3)\n",
    "    ax.tick_params(which=\"minor\", bottom=False, left=False)\n",
    "\n",
    "    # Quitamos el marco de los ejes (spines)\n",
    "    ax.spines[:].set_visible(False)    \n",
    "\n",
    "    # Parámetros para el texto\n",
    "    kw = dict(ha=\"center\", va=\"center\")\n",
    "        \n",
    "    # Calculamos un umbral. \n",
    "    # * Usamos \"im.norm\" para normalizar los datos al intervalo [0,1]\n",
    "    threshold   = im.norm(data.max())/2\n",
    "\n",
    "    # Colores para el texto        \n",
    "    text_colors  = (\"w\", \"k\") if inv_tc else (\"k\", \"w\")\n",
    "\n",
    "    # Visualizamos la información numérica.\n",
    "    for i in range(len(row_labels)):\n",
    "        for j in range(len(col_labels)):\n",
    "            # Normalizamos el dato a [0,1]\n",
    "            # Comparamos con el umbral, si es mayor usamos blanco para el texto, \n",
    "            # en otro caso se usa negro. Actualizamos el diccionario de parámetros.\n",
    "            kw.update(color=text_colors[int(im.norm(data[i, j]) > threshold)])\n",
    "\n",
    "            # Dibujamos el texto usando el formato \"text_format\".\n",
    "            text = ax.text(j, i, text_format.format(data[i, j]), **kw)    \n",
    "\n",
    "    # Barra de color\n",
    "    cbar = plt.colorbar(im, ax=ax)\n",
    "    cbar.ax.set_ylabel(cbar_label, rotation=-90, va=\"bottom\")\n",
    "    \n",
    "    plt.tight_layout()\n",
    "    return im, cbar"
   ]
  },
  {
   "cell_type": "code",
   "execution_count": null,
   "id": "a704aecd-bca4-4ef5-bf19-b9c837ab6514",
   "metadata": {
    "tags": []
   },
   "outputs": [],
   "source": [
    "heatmap_0(data, hor, ver)\n",
    "plt.savefig('heatmap5.pdf')"
   ]
  },
  {
   "cell_type": "code",
   "execution_count": null,
   "id": "3fc37d94-a85a-4083-8bb5-f16c6d0b371d",
   "metadata": {
    "tags": []
   },
   "outputs": [],
   "source": [
    "heatmap_0(data, hor, ver, cmap='cool')"
   ]
  },
  {
   "cell_type": "markdown",
   "id": "01a46fcb-3f9b-4c32-9521-0517dfc2ea3c",
   "metadata": {},
   "source": [
    "### Ejemplo de aplicación.\n",
    "\n",
    "Usaremos los datos que usan en este ejemplo: [airlines delays](https://www.kaggle.com/code/alexisbcook/bar-charts-and-heatmaps).  Cada dato de la tabla muestra en minutos el tiempo de retraso de llegada de los vuelos para diferentes aerolíneas, por mes durante el año 2015. Los número negativos significan que los vuelos llegaron anticipadamente.\n",
    "\n",
    "Para leer los datos y maninuparlos un poco usaremos la biblioteca [Pandas](https://pandas.pydata.org/). Esto lo revisaremos con más detalle posteriormente."
   ]
  },
  {
   "cell_type": "code",
   "execution_count": null,
   "id": "5abb57da-43f6-4a08-977e-580afaccca3c",
   "metadata": {
    "tags": []
   },
   "outputs": [],
   "source": [
    "import pandas as pd"
   ]
  },
  {
   "cell_type": "code",
   "execution_count": null,
   "id": "33e26101-cad2-493f-9049-d2e32d3feced",
   "metadata": {
    "tags": []
   },
   "outputs": [],
   "source": [
    "vuelos = pd.read_csv('../utils/data/flight_delays.csv')\n",
    "vuelos"
   ]
  },
  {
   "cell_type": "markdown",
   "id": "eb1822fb-cdb3-4ae8-8fe7-09a3206bc819",
   "metadata": {},
   "source": [
    "Vamos a usar la columna del mes (**Month**) como el índice de los renglones"
   ]
  },
  {
   "cell_type": "code",
   "execution_count": null,
   "id": "d7e0f284-c2ea-4240-bd1e-c98670004b7a",
   "metadata": {
    "tags": []
   },
   "outputs": [],
   "source": [
    "vuelos = pd.read_csv('../utils/data/flight_delays.csv', index_col=\"Month\")\n",
    "vuelos"
   ]
  },
  {
   "cell_type": "code",
   "execution_count": null,
   "id": "3bc6c092-7dcd-4c9b-819b-cfe7d8c4ad38",
   "metadata": {
    "tags": []
   },
   "outputs": [],
   "source": [
    "vuelos.index # revisamos la cantidad de renglones"
   ]
  },
  {
   "cell_type": "code",
   "execution_count": null,
   "id": "f6c6122d-a16f-44de-b415-7349383f1980",
   "metadata": {
    "tags": []
   },
   "outputs": [],
   "source": [
    "vuelos.columns # revisamos los nombres de las columnas"
   ]
  },
  {
   "cell_type": "code",
   "execution_count": null,
   "id": "247b3346-6e1a-413e-bbbe-35eeb0199bee",
   "metadata": {
    "tags": []
   },
   "outputs": [],
   "source": [
    "# Transformamos los nombre de los renglones y columnas en listas\n",
    "# para manipularlos de una mejor manera en este ejemplo\n",
    "meses = list(vuelos.index)\n",
    "aerolineas = list(vuelos.columns)\n",
    "print(meses)\n",
    "print(aerolineas)"
   ]
  },
  {
   "cell_type": "code",
   "execution_count": null,
   "id": "af509ea1-6420-45b1-85ef-db69c2c9c3c6",
   "metadata": {
    "tags": []
   },
   "outputs": [],
   "source": [
    "#Transformamos los datos en un arreglo de numpy:   \n",
    "np.asarray(vuelos)"
   ]
  },
  {
   "cell_type": "code",
   "execution_count": null,
   "id": "28e8ac8a-df49-44b2-92d2-555eee7246dc",
   "metadata": {
    "tags": []
   },
   "outputs": [],
   "source": [
    "# Ahora usamos nuestra herramienta heatmap_0 para generar un mapa de calor\n",
    "heatmap_0(np.asarray(vuelos), meses, aerolineas)"
   ]
  },
  {
   "cell_type": "markdown",
   "id": "8bb2c5c3-8f02-4687-888a-ce46d27759c1",
   "metadata": {},
   "source": [
    "## Versión 6.\n",
    "Lo que observamos en la figura anterior, fue que el mapa de calor no se generó adecuadamente. Vamos a modificar la función como sigue:\n"
   ]
  },
  {
   "cell_type": "code",
   "execution_count": null,
   "id": "6978e408-3f24-4a07-8894-dc6aa808475c",
   "metadata": {
    "tags": []
   },
   "outputs": [],
   "source": [
    "def heatmap(data, row_labels, col_labels, annot=True, \n",
    "            title = \"\", ax = None,\n",
    "            cbar_kw = None, cbar_label = \"\", text_kw = None,\n",
    "            text_format = \"{:.2f}\", inv_tc=False, \n",
    "            **kwargs):\n",
    "    \"\"\"\n",
    "    Crea un mapa de calor a partir de un conjunto de datos.\n",
    "    \n",
    "    Parameters\n",
    "    ----------\n",
    "    data: 2D `ndarray` \n",
    "        Los datos para generar el mapa de calor.\n",
    "        \n",
    "    row_labels: `list`\n",
    "        Lista de etiquetas para el eje vertical.\n",
    "        \n",
    "    col_labels: `list`\n",
    "        Lista de etiquetas para el eje horizontal.\n",
    "    \n",
    "    ax: `matplotlib.axes.Axes`\n",
    "        Los ejes donde se dibujará el mapa de calor. Opcional.\n",
    "        \n",
    "    cbar_kw: `dict`\n",
    "        Diccionario con los argumentos para el `colorbar`. Opcional.\n",
    "        \n",
    "    cbar_label: `string`\n",
    "        Etiqueta para el `colorbar`. Opcional.\n",
    "\n",
    "    text_kw: `dict`\n",
    "        Diccionario con los argumentos para el `Text`. Opcional.\n",
    "        \n",
    "    text_format: `string`\n",
    "        Cadena especificando el formato del texto para los valores numéricos. Opcional.\n",
    "        \n",
    "    inv_tc: `bool`\n",
    "        Si es True se usa (black, white), en otro caso se usa (white,black). Opcional.\n",
    "        \n",
    "    **kwargs:\n",
    "        Argumentos adicionales para `imshow`.\n",
    "        \n",
    "    Returns\n",
    "    -------\n",
    "        im : `AxesImage`\n",
    "        cbar: `Colorbar`\n",
    "        \n",
    "    \"\"\"\n",
    "    # Si no se proporcionan los ejes de manera explícita, se generan o se obtiene los que\n",
    "    # estén presentes.\n",
    "    if ax == None: ax = plt.gca()\n",
    "    \n",
    "    ax.set_title(title)\n",
    "    \n",
    "    # Generamos el mapa de calor\n",
    "    im = ax.imshow(data, **kwargs)\n",
    "\n",
    "    ### Decoramos el mapa de calor con información relevante:\n",
    "\n",
    "    # Ponemos las ticks en el top de la figura.\n",
    "    ax.tick_params(top=True, bottom=False, labeltop=True, labelbottom=False)\n",
    "\n",
    "    # Definimos las marcas sobre los ejes y las etiquetas\n",
    "    ax.set_xticks(np.arange(len(col_labels)), labels=col_labels, rotation=45, ha=\"left\", fontsize=9)\n",
    "    ax.set_yticks(np.arange(len(row_labels)), labels=row_labels, fontsize=9)\n",
    "\n",
    "    # Ajustamos los minor ticks para dibujar una rejilla\n",
    "    ax.set_xticks(np.arange(data.shape[1]+1)-.5, minor=True)\n",
    "    ax.set_yticks(np.arange(data.shape[0]+1)-.5, minor=True)\n",
    "    ax.grid(which=\"minor\", color=\"w\", linestyle='-', linewidth=3)\n",
    "    ax.tick_params(which=\"minor\", bottom=False, left=False)\n",
    "\n",
    "    # Quitamos el marco de los ejes (spines)\n",
    "    ax.spines[:].set_visible(False)    \n",
    "        \n",
    "    # Calculamos un umbral. \n",
    "    # * Usamos \"im.norm\" para normalizar los datos al intervalo [0,1]\n",
    "    threshold   = im.norm(data.max())/2\n",
    "\n",
    "    # Argumentos para el texto\n",
    "    if text_kw == None: text_kw = {}\n",
    "    text_kw.update(ha=\"center\", va = \"center\")\n",
    "    \n",
    "    if annot:\n",
    "        # Colores para el texto        \n",
    "        text_colors  = (\"w\", \"k\") if inv_tc else (\"k\", \"w\")\n",
    "    \n",
    "        # Visualizamos la información numérica.\n",
    "        for i in range(len(row_labels)):\n",
    "            for j in range(len(col_labels)):\n",
    "                # Normalizamos el dato a [0,1]\n",
    "                # Comparamos con el umbral, si es mayor usamos blanco para el texto, \n",
    "                # en otro caso se usa negro. Actualizamos el diccionario de parámetros.\n",
    "                text_kw.update(color=text_colors[int(im.norm(data[i, j]) > threshold)])\n",
    "\n",
    "                # Dibujamos el texto usando el formato \"text_format\".\n",
    "                text = ax.text(j, i, text_format.format(data[i, j]), **text_kw)    \n",
    "\n",
    "    # Barra de color\n",
    "    if cbar_kw == None: cbar_kw = {}\n",
    "\n",
    "    \n",
    "    from mpl_toolkits.axes_grid1 import make_axes_locatable\n",
    "    divider = make_axes_locatable(ax)\n",
    "    cax = divider.append_axes(\"right\", \"5%\", pad=\"3%\")\n",
    "    \n",
    "    cbar = plt.colorbar(im, cax=cax, **cbar_kw)\n",
    "    cbar.ax.set_ylabel(cbar_label, rotation=-90, va=\"bottom\")\n",
    "    plt.tight_layout()\n",
    "\n",
    "    plt.tight_layout()\n",
    "    return im, cbar"
   ]
  },
  {
   "cell_type": "code",
   "execution_count": null,
   "id": "0cff3768-0e1e-4571-8113-1effaac9b5d5",
   "metadata": {
    "tags": []
   },
   "outputs": [],
   "source": [
    "cbar_kw = dict(ticks=[])\n",
    "text_kw = dict(fontsize=6)\n",
    "title = \"Average Arrival Delay for Each Airline, by Month\"\n",
    "\n",
    "heatmap(np.asarray(vuelos.fillna(0)), meses, aerolineas, title=title,\n",
    "        text_kw = text_kw, inv_tc=True)\n",
    "plt.savefig('heatmap6.pdf')"
   ]
  },
  {
   "cell_type": "markdown",
   "id": "cb283fa3-b94b-4d57-915e-590c2a6f4721",
   "metadata": {},
   "source": [
    "Ahora, en vez de poner un número en el renglón, ponemos el nombre del mes."
   ]
  },
  {
   "cell_type": "code",
   "execution_count": null,
   "id": "30f8d3ed-e651-443a-b25c-073ab9b8fbbb",
   "metadata": {
    "tags": []
   },
   "outputs": [],
   "source": [
    "min_month = \"2023-01\"\n",
    "max_month = \"2023-12\"\n",
    "\n",
    "months = pd.period_range(min_month, max_month, freq='M')\n",
    "print(months)\n",
    "\n",
    "print(months.strftime(\"%B\"))"
   ]
  },
  {
   "cell_type": "code",
   "execution_count": null,
   "id": "e8275d46-51ab-40a5-8f64-ae3a4eabe0b1",
   "metadata": {
    "tags": []
   },
   "outputs": [],
   "source": [
    "heatmap(np.asarray(vuelos.fillna(0)), list(months.strftime(\"%B\")), aerolineas, \n",
    "        title=title, text_kw = text_kw, text_format='{:.1f}',inv_tc=True)\n",
    "plt.show()"
   ]
  },
  {
   "cell_type": "code",
   "execution_count": null,
   "id": "08383244-6057-4863-96d2-35590d2b34c8",
   "metadata": {
    "tags": []
   },
   "outputs": [],
   "source": [
    "heatmap(np.asarray(vuelos.fillna(0)), list(months.strftime(\"%B\")), aerolineas, \n",
    "        title = title, text_kw = text_kw, cbar_label=\"Delay time\", inv_tc=True, cmap='hot')\n",
    "\n",
    "plt.savefig('my_heatmap.pdf')\n",
    "plt.show()"
   ]
  },
  {
   "cell_type": "code",
   "execution_count": null,
   "id": "1ecb36d0-af78-4a74-8d88-c46ed2f74245",
   "metadata": {
    "tags": []
   },
   "outputs": [],
   "source": [
    "heatmap(np.asarray(vuelos.fillna(0)), list(months.strftime(\"%B\")), aerolineas, \n",
    "        title = title, annot = False, cbar_label=\"Delay time\", cmap='twilight')\n",
    "plt.show()"
   ]
  },
  {
   "cell_type": "markdown",
   "id": "0a4fbb89-a2a0-4df6-a1be-73e6acc2e8f0",
   "metadata": {},
   "source": [
    "## Versión Seaborn."
   ]
  },
  {
   "cell_type": "code",
   "execution_count": null,
   "id": "21a3b5f0-706c-43e0-96a1-c63b2203dd8a",
   "metadata": {
    "tags": []
   },
   "outputs": [],
   "source": [
    "import seaborn as sns\n",
    "sns.heatmap(data=vuelos, annot=True)\n",
    "plt.savefig('sbn_heatmap.pdf')\n",
    "plt.title(title)"
   ]
  },
  {
   "cell_type": "code",
   "execution_count": null,
   "id": "b226d12f-fc63-4eea-9936-aa68277b5d52",
   "metadata": {},
   "outputs": [],
   "source": []
  }
 ],
 "metadata": {
  "kernelspec": {
   "display_name": "Python 3 (ipykernel)",
   "language": "python",
   "name": "python3"
  },
  "language_info": {
   "codemirror_mode": {
    "name": "ipython",
    "version": 3
   },
   "file_extension": ".py",
   "mimetype": "text/x-python",
   "name": "python",
   "nbconvert_exporter": "python",
   "pygments_lexer": "ipython3",
   "version": "3.11.3"
  }
 },
 "nbformat": 4,
 "nbformat_minor": 5
}
