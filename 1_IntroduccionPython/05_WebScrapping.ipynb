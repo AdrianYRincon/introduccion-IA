{
 "cells": [
  {
   "cell_type": "markdown",
   "id": "0acd4225-e414-49b4-9eef-624e6ed35d47",
   "metadata": {},
   "source": [
    "# Introducción a Python para IA.\n",
    "\n",
    " <p xmlns:cc=\"http://creativecommons.org/ns#\" xmlns:dct=\"http://purl.org/dc/terms/\"><a property=\"dct:title\" rel=\"cc:attributionURL\" href=\"https://github.com/luiggix/intro_MeIA_2023\">Introducción a Python para IA</a> by <span property=\"cc:attributionName\">Luis Miguel de la Cruz Salas</span> is licensed under <a href=\"http://creativecommons.org/licenses/by-nc-sa/4.0/?ref=chooser-v1\" target=\"_blank\" rel=\"license noopener noreferrer\" style=\"display:inline-block;\">CC BY-NC-SA 4.0<img style=\"height:22px!important;margin-left:3px;vertical-align:text-bottom;\" src=\"https://mirrors.creativecommons.org/presskit/icons/cc.svg?ref=chooser-v1\"><img style=\"height:22px!important;margin-left:3px;vertical-align:text-bottom;\" src=\"https://mirrors.creativecommons.org/presskit/icons/by.svg?ref=chooser-v1\"><img style=\"height:22px!important;margin-left:3px;vertical-align:text-bottom;\" src=\"https://mirrors.creativecommons.org/presskit/icons/nc.svg?ref=chooser-v1\"><img style=\"height:22px!important;margin-left:3px;vertical-align:text-bottom;\" src=\"https://mirrors.creativecommons.org/presskit/icons/sa.svg?ref=chooser-v1\"></a></p> \n",
    "\n",
    "# Objetivos.\n",
    "Realizar un análisis de datos obtenidos de un sitio web (*Web Scrapping*)."
   ]
  },
  {
   "cell_type": "markdown",
   "id": "01148f3c-05db-4d7f-bbb0-0ddeb337555a",
   "metadata": {},
   "source": [
    "# Web Scrapping\n",
    "\n",
    "Para obtener los datos de un sitio web, vamos a usar las siguiente bibliotecas:\n",
    "\n",
    "* [request](https://pypi.org/project/requests/) : permite realizar solicitudes de información a sitios web de una forma muy simple y directa.\n",
    "\n",
    "* [Beautiful Soup](https://pypi.org/project/beautifulsoup4/) : es una biblioteca para analizar documentos HTML y extraer información requerida para realizar un análisis detallado.\n",
    "\n",
    "Para este ejercicio, vamos a trabajar con el siguiente sitio web: http://www.ssn.unam.mx/sismicidad/estadisticas/ . Antes de comenzar inspeccionemos el sitio web usando la opción *Inspect* en el sitio web indicado."
   ]
  },
  {
   "cell_type": "code",
   "execution_count": null,
   "id": "135f070b-c671-452f-92e7-3eb963e5c271",
   "metadata": {
    "tags": []
   },
   "outputs": [],
   "source": [
    "import numpy as np\n",
    "import pandas as pd\n",
    "import requests\n",
    "from bs4 import BeautifulSoup"
   ]
  },
  {
   "cell_type": "markdown",
   "id": "961ab3cd-422e-4899-abdf-25abdbcdd799",
   "metadata": {},
   "source": [
    "## Haciendo el requerimiento a un sitio web."
   ]
  },
  {
   "cell_type": "code",
   "execution_count": null,
   "id": "aaf47676-f6bb-455d-820a-0f204364f20f",
   "metadata": {
    "tags": []
   },
   "outputs": [],
   "source": [
    "URL = \"http://www.ssn.unam.mx/sismicidad/estadisticas/\"\n",
    "page = requests.get(URL)"
   ]
  },
  {
   "cell_type": "markdown",
   "id": "c83d79fa-47ef-466b-87d4-0aee8950c190",
   "metadata": {},
   "source": [
    "El código anterior se está realizando una solicitud de la información contenida en la URL indicada. La idea es obtener los datos en formato HTML de la URL; y almacenarlos en un objeto de Python."
   ]
  },
  {
   "cell_type": "code",
   "execution_count": null,
   "id": "1a55ec20-cc43-462a-b45e-62d92f8b89b3",
   "metadata": {
    "tags": []
   },
   "outputs": [],
   "source": [
    "print(page, type(page))"
   ]
  },
  {
   "cell_type": "markdown",
   "id": "5f7f455d-7e19-4926-ac49-c3a0414fede7",
   "metadata": {},
   "source": [
    "### Atributo `.text`\n",
    "\n",
    "Para ver la información, podemos usar el atributo .`text` del objeto `page`:"
   ]
  },
  {
   "cell_type": "code",
   "execution_count": null,
   "id": "d165e1dd-ba73-4dc2-ade9-3729b536f9c1",
   "metadata": {
    "tags": []
   },
   "outputs": [],
   "source": [
    "print(type(page.text))# Primero vemos de que tipo es el objeto generado por .text"
   ]
  },
  {
   "cell_type": "code",
   "execution_count": null,
   "id": "1c49b788-cad9-4975-a29a-80ef3b05ae18",
   "metadata": {
    "tags": []
   },
   "outputs": [],
   "source": [
    "print(page.text) # ahora imprimimos el contenido"
   ]
  },
  {
   "cell_type": "markdown",
   "id": "7a713867-8ebe-48cc-8efe-64d0078263e8",
   "metadata": {},
   "source": [
    "\n",
    "### Atributo `.content`\n",
    "\n",
    "Aunque se podría trabajar con el resultado que proporciona `.text` es mejor usar `.content`. Este último atributo proporciona la información en *bytes* crudos que pueden ser decodificados de una mejor manera que la representación en texto. "
   ]
  },
  {
   "cell_type": "code",
   "execution_count": null,
   "id": "8b5ce6b7-2565-4a33-8432-228a5c1a2c91",
   "metadata": {
    "tags": []
   },
   "outputs": [],
   "source": [
    "print(type(page.content))"
   ]
  },
  {
   "cell_type": "code",
   "execution_count": null,
   "id": "e5f196fd-8b1e-4a8f-99cd-558203b50bc5",
   "metadata": {
    "tags": []
   },
   "outputs": [],
   "source": [
    "print(page.content)"
   ]
  },
  {
   "cell_type": "markdown",
   "id": "519682c6-83ef-4062-9d3f-ae5642ac59f7",
   "metadata": {},
   "source": [
    "## Extrayendo la información con `BeautifulSoup`\n",
    "\n",
    "Ahora usemos la biblioteca `BeautifulSoup` para extraer la información necesaria para su posterior análisis. Creamos entonces el objeto `soup` como sigue"
   ]
  },
  {
   "cell_type": "code",
   "execution_count": null,
   "id": "346ef6a4-8924-41ff-8d53-db1d209d0970",
   "metadata": {
    "tags": []
   },
   "outputs": [],
   "source": [
    "soup = BeautifulSoup(page.content, \"html.parser\")\n",
    "print(type(soup))"
   ]
  },
  {
   "cell_type": "code",
   "execution_count": null,
   "id": "e785bc25-2388-41e2-97a0-b08ffff8549d",
   "metadata": {
    "tags": []
   },
   "outputs": [],
   "source": [
    "print(soup)"
   ]
  },
  {
   "cell_type": "markdown",
   "id": "861e8e54-843a-4161-add7-d07468f9313f",
   "metadata": {},
   "source": [
    "### Usando la función `prettify()`"
   ]
  },
  {
   "cell_type": "code",
   "execution_count": null,
   "id": "32184b58-3ed3-4bcb-9d88-acc78b2a8bfb",
   "metadata": {
    "tags": []
   },
   "outputs": [],
   "source": [
    "print(soup.prettify())"
   ]
  },
  {
   "cell_type": "markdown",
   "id": "04b38e84-6fa4-4546-9c4f-a5e493c90e03",
   "metadata": {},
   "source": [
    "## Analizando la información.\n",
    "\n",
    "### Función `find_all()`"
   ]
  },
  {
   "cell_type": "code",
   "execution_count": null,
   "id": "9eaf5b36-dbba-48b9-8810-340063349df5",
   "metadata": {
    "tags": []
   },
   "outputs": [],
   "source": [
    "# Buscamos los elementos de tipo div con el siguiente texto \"table_header\"\n",
    "año_total = soup.find_all(\"div\", class_=\"table_header\")\n",
    "año_total"
   ]
  },
  {
   "cell_type": "code",
   "execution_count": null,
   "id": "28bcd2ee-28f3-48e7-b845-0ad85105220f",
   "metadata": {
    "tags": []
   },
   "outputs": [],
   "source": [
    "print(type(año_total), len(año_total))"
   ]
  },
  {
   "cell_type": "markdown",
   "id": "a591b677-5e23-42b8-822b-a2f1af13e56a",
   "metadata": {},
   "source": [
    "### Atributo `contents`"
   ]
  },
  {
   "cell_type": "code",
   "execution_count": null,
   "id": "b1ea6fe1-05ad-4d41-999a-79fb07f70239",
   "metadata": {
    "tags": []
   },
   "outputs": [],
   "source": [
    "print(año_total[0], type(año_total[0]), año_total[0].contents)\n",
    "print(año_total[1], type(año_total[1]), año_total[1].contents)"
   ]
  },
  {
   "cell_type": "code",
   "execution_count": null,
   "id": "9c84ab79-a3f3-4b4f-8dfe-9c3c47888adc",
   "metadata": {
    "tags": []
   },
   "outputs": [],
   "source": [
    "print(len(año_total[0].contents), año_total[0].contents[0])\n",
    "print(len(año_total[1].contents), año_total[1].contents[0])"
   ]
  },
  {
   "cell_type": "markdown",
   "id": "fa8a0f5f-04f7-4942-b1ee-a68f46dfc8db",
   "metadata": {},
   "source": [
    "### Generando las columnas"
   ]
  },
  {
   "cell_type": "code",
   "execution_count": null,
   "id": "776d85c7-02cd-4df3-a2c9-b3ccf63fb726",
   "metadata": {
    "tags": []
   },
   "outputs": [],
   "source": [
    "columnas = [año_total[1].contents[0]]\n",
    "columnas"
   ]
  },
  {
   "cell_type": "markdown",
   "id": "766a68e8-dad5-4811-b6cf-6b12a32cfa9e",
   "metadata": {},
   "source": [
    "Ahora buscamos las columnas restantes con información relevante."
   ]
  },
  {
   "cell_type": "code",
   "execution_count": null,
   "id": "8ff56a50-62d2-465c-991b-5e5dbcafa76d",
   "metadata": {
    "tags": []
   },
   "outputs": [],
   "source": [
    "magnitudes = soup.find_all(\"div\", class_=\"table_magnitud\")\n",
    "magnitudes"
   ]
  },
  {
   "cell_type": "code",
   "execution_count": null,
   "id": "68ab2408-34fd-4099-af6c-f41fa3c699cc",
   "metadata": {
    "tags": []
   },
   "outputs": [],
   "source": [
    "print(type(magnitudes), len(magnitudes))"
   ]
  },
  {
   "cell_type": "code",
   "execution_count": null,
   "id": "4be21889-7096-45a8-8c9d-f4251a5c1333",
   "metadata": {
    "tags": []
   },
   "outputs": [],
   "source": [
    "print(type(magnitudes[0]), len(magnitudes[0]), magnitudes[0].contents)"
   ]
  },
  {
   "cell_type": "code",
   "execution_count": null,
   "id": "2d81b405-cca2-4ac1-a140-ba4a1b340377",
   "metadata": {
    "tags": []
   },
   "outputs": [],
   "source": [
    "for m in magnitudes:\n",
    "    print(type(m), len(m), m.contents)"
   ]
  },
  {
   "cell_type": "code",
   "execution_count": null,
   "id": "b7e4f2fb-dc7f-4353-a7f3-e5c26013a9f8",
   "metadata": {
    "tags": []
   },
   "outputs": [],
   "source": [
    "for m in magnitudes:\n",
    "    columnas.append(m.contents[0])"
   ]
  },
  {
   "cell_type": "code",
   "execution_count": null,
   "id": "8d15e6f7-7ba0-4fe0-a885-395d2243d4ee",
   "metadata": {
    "tags": []
   },
   "outputs": [],
   "source": [
    "columnas"
   ]
  },
  {
   "cell_type": "markdown",
   "id": "526082e8-11cf-4eb8-9e6a-c48ae2456445",
   "metadata": {},
   "source": [
    "### Obteniendo los datos numéricos\n",
    "\n",
    "Los datos están en un contender de tipo \"\\<div class=\"table_item\">\", entonces para encontrar esa información hacemos lo siguiente:"
   ]
  },
  {
   "cell_type": "code",
   "execution_count": null,
   "id": "9e1e7bf1-b177-4381-91bb-f2f38ebc701b",
   "metadata": {
    "tags": []
   },
   "outputs": [],
   "source": [
    "data = soup.find_all(\"div\", class_=\"table_item\")\n",
    "print(type(data), len(data))"
   ]
  },
  {
   "cell_type": "code",
   "execution_count": null,
   "id": "de6d153a-bc2e-4606-99e6-69a6f65da891",
   "metadata": {
    "tags": []
   },
   "outputs": [],
   "source": [
    "data"
   ]
  },
  {
   "cell_type": "markdown",
   "id": "9228126f-8843-4dcd-936c-7eefc8110769",
   "metadata": {
    "tags": []
   },
   "source": [
    "Checamos la información antes de pasarla a un DataFrame:"
   ]
  },
  {
   "cell_type": "code",
   "execution_count": null,
   "id": "dfdcca6e-c804-4b96-bc16-78ff66fdbe27",
   "metadata": {
    "tags": []
   },
   "outputs": [],
   "source": [
    "for r in data:\n",
    "    print(r.contents[0])\n",
    "    print(r, type(r), r.contents[0])"
   ]
  },
  {
   "cell_type": "markdown",
   "id": "201c120f-10fe-4d2d-a1d7-562c5d2b7aa0",
   "metadata": {},
   "source": [
    "### Creando un DataFrame\n",
    "\n",
    "Ya que se tienen definidas las columnas, podemos definir un DataFrame vacío como sigue"
   ]
  },
  {
   "cell_type": "code",
   "execution_count": null,
   "id": "83410d69-35bd-403f-9664-f705b95a3a61",
   "metadata": {
    "tags": []
   },
   "outputs": [],
   "source": [
    "sismicidad = pd.DataFrame(columns = columnas)\n",
    "sismicidad"
   ]
  },
  {
   "cell_type": "markdown",
   "id": "fb8ac379-5580-4020-ae4a-616efc789661",
   "metadata": {},
   "source": [
    "Como se observa, el DataFrame no contiene datos. \n",
    "\n",
    "Ahora vamos a recuperar la información que está almacenada en el objeto `data` para agregarla al DataFrame. Recordemos el tipo y longitud del objeto:"
   ]
  },
  {
   "cell_type": "code",
   "execution_count": null,
   "id": "c92fe21b-8b7d-4ce9-ab3e-d90f38d02710",
   "metadata": {
    "tags": []
   },
   "outputs": [],
   "source": [
    "print(type(data), len(data))"
   ]
  },
  {
   "cell_type": "markdown",
   "id": "1b9b25b5-e70a-418d-9e5d-9385b7450598",
   "metadata": {},
   "source": [
    "Tenemos 1 objeto de tipo `bs4.element.ResultSet` que contiene 340 objetos. \n",
    "\n",
    "Cada uno de estos 340 objetos tiene la siguiente información:"
   ]
  },
  {
   "cell_type": "code",
   "execution_count": null,
   "id": "90fe3ef1-6654-4c55-9888-98b8ef3ee88f",
   "metadata": {
    "tags": []
   },
   "outputs": [],
   "source": [
    "print(data[0], type(data[0]), len(data[0]))"
   ]
  },
  {
   "cell_type": "markdown",
   "id": "e7488017-3a5f-4f62-8696-e26a7c887091",
   "metadata": {},
   "source": [
    "Como puede observarse, los objetos son de tipo `bs4.element.Tag`.\n",
    "\n",
    "Veamos los primeros 10 de estos objetos:"
   ]
  },
  {
   "cell_type": "code",
   "execution_count": null,
   "id": "af140f44-0f5c-43b9-92fc-5785dd02475b",
   "metadata": {
    "tags": []
   },
   "outputs": [],
   "source": [
    "data[0:10]"
   ]
  },
  {
   "cell_type": "markdown",
   "id": "ad3a575f-4a7a-4426-a638-3432aa6c5e19",
   "metadata": {},
   "source": [
    "Hacemos uso del atributo `contents` para extraer la información:"
   ]
  },
  {
   "cell_type": "code",
   "execution_count": null,
   "id": "fc8f5f92-9131-448d-b195-001401d9ab19",
   "metadata": {
    "tags": []
   },
   "outputs": [],
   "source": [
    "print(data[0].contents, type(data[0].contents), len(data[0].contents))"
   ]
  },
  {
   "cell_type": "markdown",
   "id": "4f75ddf3-8a90-419e-95fd-ce7a86599e5b",
   "metadata": {},
   "source": [
    "El contenido es una lista, entonces: "
   ]
  },
  {
   "cell_type": "code",
   "execution_count": null,
   "id": "6fc22d30-7026-49f5-befc-ac4a4816a90f",
   "metadata": {
    "tags": []
   },
   "outputs": [],
   "source": [
    "print(data[0].contents[0], type(data[0].contents[0]), len(data[0].contents[0]))"
   ]
  },
  {
   "cell_type": "markdown",
   "id": "75974e68-87f1-429b-bd8c-9180bbc0826a",
   "metadata": {},
   "source": [
    "Observa que el dato 1990 es de tipo `bs4.element.NavigableString`, pero requerimos que tenga un tipo numérico, en este caso `int` entonces lo vamos a transformar cuando se incluya en el DataFrame."
   ]
  },
  {
   "cell_type": "markdown",
   "id": "ef8c6b3a-659a-4915-863f-11894766e0da",
   "metadata": {},
   "source": [
    "Usando este aprendizaje, podemos ver toda la información mediante un par de ciclos:"
   ]
  },
  {
   "cell_type": "code",
   "execution_count": null,
   "id": "1bd16873-c371-4aee-bc80-07689032f0a2",
   "metadata": {
    "tags": []
   },
   "outputs": [],
   "source": [
    "for i in range(0,340,10): # Salto de 10 en 10\n",
    "    for r in data[i:i+10]: # Recorrido de los 10 objetos\n",
    "        print(int(r.contents[0]), end = ' ') # Transformamos cada dato en int\n",
    "    print()"
   ]
  },
  {
   "cell_type": "markdown",
   "id": "515a6e0a-1340-4708-aa86-f7aaadaac438",
   "metadata": {},
   "source": [
    "Vamos a usar el año como índice del DataFrame. Además, debemos relacionar cada dato con su columna.\n",
    "\n",
    "Usamos la función `zip()` para crear una relación entre el dato numérico y la columna a la que pertenece:"
   ]
  },
  {
   "cell_type": "code",
   "execution_count": null,
   "id": "cd134d0d-f49a-45d7-a152-42cecb7d2b64",
   "metadata": {
    "tags": []
   },
   "outputs": [],
   "source": [
    "for i in range(0,10,10):\n",
    "    for r, col in zip(data[i+1:i+10], columnas): # No tomamos en cuenta el año\n",
    "        print('{:>5d} \\t {}'.format(int(r.contents[0]), col))"
   ]
  },
  {
   "cell_type": "markdown",
   "id": "a5af4b2c-ad30-49de-9cfc-d153510d75d2",
   "metadata": {
    "tags": []
   },
   "source": [
    "### Incorporando la información al DataFrame\n",
    "\n",
    "Ahora si estamos listos para incrustar la información en cada posición del DataFrame.\n",
    "\n",
    "Usaremos la función `loc` con la cual podemos indicar el índice del renglón y la columna:"
   ]
  },
  {
   "cell_type": "code",
   "execution_count": null,
   "id": "7f8ffcd6-afc5-494a-8f3f-0fc94412be0e",
   "metadata": {
    "tags": []
   },
   "outputs": [],
   "source": [
    "for i in range(0,340,10):\n",
    "    for r, col in zip(data[i+1:i+10], columnas):\n",
    "        sismicidad.loc[data[i].contents[0], col] = int(r.contents[0])"
   ]
  },
  {
   "cell_type": "markdown",
   "id": "4a075c34-782e-4bc6-ba47-752974e18aec",
   "metadata": {},
   "source": [
    "Nuestro DataFrame es el siguiente:"
   ]
  },
  {
   "cell_type": "code",
   "execution_count": null,
   "id": "df24c352-2f65-4888-b463-0e0f262e481d",
   "metadata": {
    "tags": []
   },
   "outputs": [],
   "source": [
    "sismicidad"
   ]
  },
  {
   "cell_type": "markdown",
   "id": "7e51aa09-06a6-425d-bf64-1328c88e5137",
   "metadata": {},
   "source": [
    "# Visualización de los datos "
   ]
  },
  {
   "cell_type": "code",
   "execution_count": null,
   "id": "fff4f68c-5920-4ab5-ad3b-eb6e95896cb1",
   "metadata": {
    "tags": []
   },
   "outputs": [],
   "source": [
    "sismicidad.plot(kind='bar', y = 'TOTAL DE SISMOS')"
   ]
  },
  {
   "cell_type": "code",
   "execution_count": null,
   "id": "0741084e-2a46-4e56-9459-245e03717e06",
   "metadata": {
    "tags": []
   },
   "outputs": [],
   "source": [
    "sismicidad.columns"
   ]
  },
  {
   "cell_type": "code",
   "execution_count": null,
   "id": "490e6fdd-2025-4944-833e-bef99f3f1021",
   "metadata": {
    "tags": []
   },
   "outputs": [],
   "source": [
    "sismicidad.plot.area(alpha=0.5)"
   ]
  },
  {
   "cell_type": "code",
   "execution_count": null,
   "id": "c0d53074-522a-4fa5-b531-e81c179d804d",
   "metadata": {
    "tags": []
   },
   "outputs": [],
   "source": [
    "sismicidad.loc['2001'].plot()"
   ]
  },
  {
   "cell_type": "code",
   "execution_count": null,
   "id": "6aef036d-f5c0-4db2-9b0f-d36a8c5ea9f3",
   "metadata": {
    "tags": []
   },
   "outputs": [],
   "source": [
    "import matplotlib.pyplot as plt"
   ]
  },
  {
   "cell_type": "code",
   "execution_count": null,
   "id": "00e00e30-af5c-4e6d-8b46-eb9c46186ac7",
   "metadata": {
    "tags": []
   },
   "outputs": [],
   "source": [
    "sismicidad.loc['2001'][1:].plot()\n",
    "plt.xticks(rotation=45)\n",
    "plt.show()"
   ]
  },
  {
   "cell_type": "code",
   "execution_count": null,
   "id": "fbbfb0d3-431c-4dcd-aa9a-bbb085b10ef2",
   "metadata": {
    "tags": []
   },
   "outputs": [],
   "source": [
    "sismicidad.loc['2001'][1:].plot(kind = 'bar')\n",
    "plt.xticks(rotation=45)\n",
    "plt.show()"
   ]
  },
  {
   "cell_type": "code",
   "execution_count": null,
   "id": "adaf643d-9d24-4240-8d36-9a8a2c776dc0",
   "metadata": {
    "tags": []
   },
   "outputs": [],
   "source": [
    "sismicidad.plot(subplots=True)"
   ]
  },
  {
   "cell_type": "code",
   "execution_count": null,
   "id": "554de5c2-39d3-4e0f-8d17-676982f5018e",
   "metadata": {
    "tags": []
   },
   "outputs": [],
   "source": [
    "sismicidad.plot(subplots=True, kind='bar')"
   ]
  },
  {
   "cell_type": "code",
   "execution_count": null,
   "id": "75562a21-6cbe-4ccd-982b-80c52775c212",
   "metadata": {
    "tags": []
   },
   "outputs": [],
   "source": [
    "sismicidad.iloc[:,2:5].plot(subplots=True, kind='bar', sharey=True)"
   ]
  },
  {
   "cell_type": "code",
   "execution_count": null,
   "id": "df0beba0-5c84-4437-8a3e-c6fdaecf5b44",
   "metadata": {
    "tags": []
   },
   "outputs": [],
   "source": [
    "sismicidad.iloc[:,7:9].plot(subplots=True, kind='bar', sharey=True)"
   ]
  },
  {
   "cell_type": "code",
   "execution_count": null,
   "id": "5b20ec33-60e4-4f38-9363-ccaa0752b261",
   "metadata": {},
   "outputs": [],
   "source": []
  }
 ],
 "metadata": {
  "kernelspec": {
   "display_name": "Python 3 (ipykernel)",
   "language": "python",
   "name": "python3"
  },
  "language_info": {
   "codemirror_mode": {
    "name": "ipython",
    "version": 3
   },
   "file_extension": ".py",
   "mimetype": "text/x-python",
   "name": "python",
   "nbconvert_exporter": "python",
   "pygments_lexer": "ipython3",
   "version": "3.11.3"
  }
 },
 "nbformat": 4,
 "nbformat_minor": 5
}
